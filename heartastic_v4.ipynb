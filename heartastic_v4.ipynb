{
  "cells": [
    {
      "cell_type": "code",
      "execution_count": 15,
      "metadata": {
        "id": "VPxQMH26A9-E"
      },
      "outputs": [],
      "source": [
        "# === LOAD DATASET\n",
        "import pandas as pd\n",
        "import seaborn as sns\n",
        "import numpy as np\n",
        "import matplotlib.pyplot as plt\n",
        "from sklearn.preprocessing import LabelEncoder\n",
        "from sklearn.model_selection import train_test_split\n",
        "\n",
        "df = pd.read_csv(\"https://raw.githubusercontent.com/fancesatria/heartastic/main/dataset/Cardiovascular_Disease_Dataset.csv\")"
      ]
    },
    {
      "cell_type": "markdown",
      "metadata": {
        "id": "K9n8RZqeWPhn"
      },
      "source": [
        "# **A. DATA PREPROCESSING**"
      ]
    },
    {
      "cell_type": "code",
      "execution_count": 16,
      "metadata": {
        "colab": {
          "base_uri": "https://localhost:8080/"
        },
        "id": "yDHrqMpVBmKE",
        "outputId": "f9635d61-b505-4d53-848f-82bc8d79ace8"
      },
      "outputs": [
        {
          "name": "stdout",
          "output_type": "stream",
          "text": [
            "   Age  Sex  ChestPain  RestBP  Cholesterol  FastingBS  ExerciseAngina  \\\n",
            "0   53    1          2     171            0          0               0   \n",
            "1   40    1          0      94          229          0               0   \n",
            "2   49    1          2     133          142          0               1   \n",
            "3   43    1          0     138          295          1               0   \n",
            "4   31    1          1     199            0          0               0   \n",
            "\n",
            "   HeartDisease  \n",
            "0             1  \n",
            "1             0  \n",
            "2             0  \n",
            "3             1  \n",
            "4             1  \n"
          ]
        }
      ],
      "source": [
        "# DROP UNNECESSARY COL AND RENAME COL\n",
        "df = df.drop(columns=['patientid'], errors='ignore')\n",
        "\n",
        "df = df.rename(columns={\n",
        "    'age': 'Age',\n",
        "    'gender': 'Sex',\n",
        "    'chestpain': 'ChestPain',\n",
        "    'restingBP': 'RestBP',\n",
        "    'serumcholestrol': 'Cholesterol',\n",
        "    'fastingbloodsugar': 'FastingBS',\n",
        "    'restingrelectro': 'RestECG',\n",
        "    'maxheartrate': 'MaxHR',\n",
        "    'exerciseangia': 'ExerciseAngina',\n",
        "    'oldpeak': 'Oldpeak',\n",
        "    'slope': 'ST_Slope',\n",
        "    'noofmajorvessels': 'NumVessels',\n",
        "    'target': 'HeartDisease'\n",
        "})\n",
        "\n",
        "# DROP COLUMN\n",
        "df = df.drop(columns=['RestECG', 'MaxHR', 'Oldpeak', 'NumVessels', 'ST_Slope'])\n",
        "\n",
        "print(df.head())"
      ]
    },
    {
      "cell_type": "code",
      "execution_count": 17,
      "metadata": {
        "colab": {
          "base_uri": "https://localhost:8080/",
          "height": 561
        },
        "id": "w5QRRi6BbmvS",
        "outputId": "cd99d071-2e18-4a97-b09a-037910cfdc84"
      },
      "outputs": [
        {
          "name": "stdout",
          "output_type": "stream",
          "text": [
            "HeartDisease\n",
            "1    58.0\n",
            "0    42.0\n",
            "Name: proportion, dtype: float64\n"
          ]
        },
        {
          "data": {
            "image/png": "[encoded data removed]",
            "text/plain": [
              "<Figure size 800x500 with 1 Axes>"
            ]
          },
          "metadata": {},
          "output_type": "display_data"
        }
      ],
      "source": [
        "# DATA DISTRIBUTION CHECK\n",
        "print(df['HeartDisease'].value_counts(normalize=True) * 100)\n",
        "\n",
        "plt.figure(figsize=(8,5))\n",
        "ax = sns.countplot(data=df, x='HeartDisease', hue='HeartDisease', palette='viridis', legend=False)\n",
        "plt.title(\"Class Distribution Heart Disease\", fontsize=14)\n",
        "plt.xlabel(\"Heart Disease (0 = No, 1 = Yes)\", fontsize=12)\n",
        "plt.ylabel(\"Count\", fontsize=12)\n",
        "\n",
        "for p in ax.patches:\n",
        "    ax.annotate(f'{p.get_height():.0f}',\n",
        "                (p.get_x() + p.get_width()/2., p.get_height()),\n",
        "                ha='center', va='center',\n",
        "                xytext=(0, 5),\n",
        "                textcoords='offset points')\n",
        "plt.show()"
      ]
    },
    {
      "cell_type": "code",
      "execution_count": 18,
      "metadata": {
        "colab": {
          "base_uri": "https://localhost:8080/"
        },
        "id": "hzd43neVLmGr",
        "outputId": "56aaae42-2723-461d-ee34-e88949c792a4"
      },
      "outputs": [
        {
          "name": "stdout",
          "output_type": "stream",
          "text": [
            "Data size (before): 1000\n",
            "Data size (after): 1000\n"
          ]
        }
      ],
      "source": [
        "# CLEAN OUTLIER\n",
        "from scipy.stats import mstats\n",
        "\n",
        "numeric_cols = df.select_dtypes(include=[np.number]).columns.tolist()\n",
        "numeric_cols.remove(\"HeartDisease\")  # Exclude target\n",
        "\n",
        "def winsorize_data(data, cols, limits=(0.05, 0.05)):\n",
        "    data_copy = data.copy()\n",
        "    for col in cols:\n",
        "        data_copy[col] = mstats.winsorize(data_copy[col], limits=limits)\n",
        "    return data_copy\n",
        "\n",
        "df_winsorized = winsorize_data(df, numeric_cols)\n",
        "print(\"Data size (before):\", len(df))\n",
        "print(\"Data size (after):\", len(df_winsorized))"
      ]
    },
    {
      "cell_type": "code",
      "execution_count": 19,
      "metadata": {
        "colab": {
          "base_uri": "https://localhost:8080/",
          "height": 792
        },
        "id": "TkDVl_XNF2AF",
        "outputId": "a5ea00ab-4b2e-4522-a71f-b01b63201562"
      },
      "outputs": [
        {
          "data": {
            "image/png": "[encoded data removed]",
            "text/plain": [
              "<Figure size 1200x800 with 2 Axes>"
            ]
          },
          "metadata": {},
          "output_type": "display_data"
        }
      ],
      "source": [
        "# CORRELATION\n",
        "# Encode categorical features\n",
        "le = LabelEncoder()\n",
        "categorical_cols = df_winsorized.select_dtypes(include=['object']).columns\n",
        "\n",
        "for col in categorical_cols:\n",
        "    df_winsorized[col] = le.fit_transform(df[col].astype(str))\n",
        "\n",
        "# Calculate correlation\n",
        "plt.figure(figsize=(12,8))\n",
        "sns.heatmap(df.corr(), annot=True, cmap='coolwarm', center=0, fmt=\".2f\")\n",
        "plt.title(\"Correlation Matrix\", fontsize=14)\n",
        "plt.show()\n"
      ]
    },
    {
      "cell_type": "code",
      "execution_count": 20,
      "metadata": {
        "colab": {
          "base_uri": "https://localhost:8080/"
        },
        "id": "Nh9OaxiUOJRk",
        "outputId": "bc3147dc-93cd-41ca-db40-45db6eb74cda"
      },
      "outputs": [
        {
          "name": "stdout",
          "output_type": "stream",
          "text": [
            "\n",
            "=== FINAL DATA ===\n",
            "Shape: (1000, 8)\n",
            "Feature Count: 7\n",
            "Class Percentage:\n",
            "HeartDisease\n",
            "1    58.0\n",
            "0    42.0\n",
            "Name: proportion, dtype: float64\n"
          ]
        }
      ],
      "source": [
        "# FINAL DATA\n",
        "X = df.drop(columns=[\"HeartDisease\"])\n",
        "y = df_winsorized[\"HeartDisease\"]\n",
        "\n",
        "print(\"\\n=== FINAL DATA ===\")\n",
        "print(f\"Shape: {df_winsorized.shape}\")\n",
        "print(f\"Feature Count: {len(X.columns)}\")\n",
        "print(f\"Class Percentage:\\n{y.value_counts(normalize=True)*100}\")"
      ]
    },
    {
      "cell_type": "markdown",
      "metadata": {
        "id": "HwOy-OvuWgXG"
      },
      "source": [
        "# **B. SPLIT DATA**"
      ]
    },
    {
      "cell_type": "code",
      "execution_count": 21,
      "metadata": {
        "colab": {
          "base_uri": "https://localhost:8080/"
        },
        "id": "VKdiA92JZGAe",
        "outputId": "10b654c6-cc94-4873-db5d-3401f9426f13"
      },
      "outputs": [
        {
          "name": "stdout",
          "output_type": "stream",
          "text": [
            "Train: 700 samples\n",
            "Validation: 201 samples\n",
            "test: 99 samples\n",
            "Distribution after SMOTE:\n",
            "HeartDisease\n",
            "1    406\n",
            "0    406\n",
            "Name: count, dtype: int64\n"
          ]
        }
      ],
      "source": [
        "# Split 70% for train\n",
        "X_train, X_temp, y_train, y_temp = train_test_split(\n",
        "    X, y, test_size=0.30, random_state=42, stratify=y\n",
        ")\n",
        "\n",
        "# Split 30% remains, 30% * 0.33 = 9.9% => 10% for testing\n",
        "X_val, X_test, y_val, y_test = train_test_split(\n",
        "    X_temp, y_temp, test_size=0.33, random_state=42, stratify=y_temp\n",
        ")\n",
        "\n",
        "# Proportion check\n",
        "print(f'Train: {len(X_train)} samples')\n",
        "print(f'Validation: {len(X_val)} samples')\n",
        "print(f'test: {len(X_test)} samples')\n",
        "\n",
        "from imblearn.over_sampling import SMOTE\n",
        "\n",
        "# SMOTE\n",
        "smote = SMOTE(random_state=42)\n",
        "X_train_sm, y_train_sm = smote.fit_resample(X_train, y_train)\n",
        "\n",
        "print(\"Distribution after SMOTE:\")\n",
        "print(pd.Series(y_train_sm).value_counts())"
      ]
    },
    {
      "cell_type": "markdown",
      "metadata": {
        "id": "Wkm0YQQfcrqY"
      },
      "source": [
        "# **C. TRAIN MODEL**"
      ]
    },
    {
      "cell_type": "code",
      "execution_count": 22,
      "metadata": {
        "id": "4C8ReT2fI7tz"
      },
      "outputs": [],
      "source": [
        "# Evaluation function\n",
        "from sklearn.ensemble import RandomForestClassifier\n",
        "from sklearn.model_selection import train_test_split, learning_curve, cross_val_score, RandomizedSearchCV, StratifiedKFold\n",
        "from sklearn.metrics import classification_report, accuracy_score, confusion_matrix\n",
        "\n",
        "def evaluate_model(name, model, X_train, X_val, X_test, y_train, y_val, y_test):\n",
        "    print(f\"\\n=== Evaluation {name} ===\")\n",
        "\n",
        "    y_train_pred = model.predict(X_train)\n",
        "    print(\"Train Accuracy:\", accuracy_score(y_train, y_train_pred))\n",
        "    y_val_pred = model.predict(X_val)\n",
        "    print(\"Validation Accuracy:\", accuracy_score(y_val, y_val_pred))\n",
        "    y_test_pred = model.predict(X_test)\n",
        "    print(\"Test Accuracy:\", accuracy_score(y_test, y_test_pred))\n",
        "\n",
        "    print(\"\\nClassification Report (Test):\\n\", classification_report(y_test, y_test_pred))\n",
        "    print(\"Confusion Matrix:\\n\", confusion_matrix(y_test, y_test_pred))\n",
        "\n",
        "def plot_model(name, model):\n",
        "  train_sizes, train_scores, val_scores = learning_curve(\n",
        "      model, X_train, y_train, cv=5,\n",
        "      train_sizes=np.linspace(0.1, 1.0, 10), scoring='accuracy'\n",
        "  )\n",
        "\n",
        "  plt.plot(train_sizes, np.mean(train_scores, axis=1), label='Training')\n",
        "  plt.plot(train_sizes, np.mean(val_scores, axis=1), label='Validation')\n",
        "  plt.title(f\"Learning Curve - {name}\")\n",
        "  plt.xlabel('Training Size')\n",
        "  plt.ylabel('Accuracy')\n",
        "  plt.grid(True)\n",
        "  plt.legend()"
      ]
    },
    {
      "cell_type": "markdown",
      "metadata": {
        "id": "DsMKU_GMgCpJ"
      },
      "source": [
        "# **1. Random Forest**"
      ]
    },
    {
      "cell_type": "code",
      "execution_count": 23,
      "metadata": {
        "colab": {
          "base_uri": "https://localhost:8080/",
          "height": 865
        },
        "id": "Jqr_S8ZneiOI",
        "outputId": "be6741b5-f28e-40e7-e650-630a5d8c79dd"
      },
      "outputs": [
        {
          "name": "stdout",
          "output_type": "stream",
          "text": [
            "\n",
            "=== Evaluation Random Forest Before Tuning ===\n",
            "Train Accuracy: 0.937192118226601\n",
            "Validation Accuracy: 0.9402985074626866\n",
            "Test Accuracy: 0.8383838383838383\n",
            "\n",
            "Classification Report (Test):\n",
            "               precision    recall  f1-score   support\n",
            "\n",
            "           0       0.82      0.79      0.80        42\n",
            "           1       0.85      0.88      0.86        57\n",
            "\n",
            "    accuracy                           0.84        99\n",
            "   macro avg       0.84      0.83      0.83        99\n",
            "weighted avg       0.84      0.84      0.84        99\n",
            "\n",
            "Confusion Matrix:\n",
            " [[33  9]\n",
            " [ 7 50]]\n"
          ]
        },
        {
          "data": {
            "text/html": [
              "<style>#sk-container-id-1 {\n",
              "  /* Definition of color scheme common for light and dark mode */\n",
              "  --sklearn-color-text: #000;\n",
              "  --sklearn-color-text-muted: #666;\n",
              "  --sklearn-color-line: gray;\n",
              "  /* Definition of color scheme for unfitted estimators */\n",
              "  --sklearn-color-unfitted-level-0: #fff5e6;\n",
              "  --sklearn-color-unfitted-level-1: #f6e4d2;\n",
              "  --sklearn-color-unfitted-level-2: #ffe0b3;\n",
              "  --sklearn-color-unfitted-level-3: chocolate;\n",
              "  /* Definition of color scheme for fitted estimators */\n",
              "  --sklearn-color-fitted-level-0: #f0f8ff;\n",
              "  --sklearn-color-fitted-level-1: #d4ebff;\n",
              "  --sklearn-color-fitted-level-2: #b3dbfd;\n",
              "  --sklearn-color-fitted-level-3: cornflowerblue;\n",
              "\n",
              "  /* Specific color for light theme */\n",
              "  --sklearn-color-text-on-default-background: var(--sg-text-color, var(--theme-code-foreground, var(--jp-content-font-color1, black)));\n",
              "  --sklearn-color-background: var(--sg-background-color, var(--theme-background, var(--jp-layout-color0, white)));\n",
              "  --sklearn-color-border-box: var(--sg-text-color, var(--theme-code-foreground, var(--jp-content-font-color1, black)));\n",
              "  --sklearn-color-icon: #696969;\n",
              "\n",
              "  @media (prefers-color-scheme: dark) {\n",
              "    /* Redefinition of color scheme for dark theme */\n",
              "    --sklearn-color-text-on-default-background: var(--sg-text-color, var(--theme-code-foreground, var(--jp-content-font-color1, white)));\n",
              "    --sklearn-color-background: var(--sg-background-color, var(--theme-background, var(--jp-layout-color0, #111)));\n",
              "    --sklearn-color-border-box: var(--sg-text-color, var(--theme-code-foreground, var(--jp-content-font-color1, white)));\n",
              "    --sklearn-color-icon: #878787;\n",
              "  }\n",
              "}\n",
              "\n",
              "#sk-container-id-1 {\n",
              "  color: var(--sklearn-color-text);\n",
              "}\n",
              "\n",
              "#sk-container-id-1 pre {\n",
              "  padding: 0;\n",
              "}\n",
              "\n",
              "#sk-container-id-1 input.sk-hidden--visually {\n",
              "  border: 0;\n",
              "  clip: rect(1px 1px 1px 1px);\n",
              "  clip: rect(1px, 1px, 1px, 1px);\n",
              "  height: 1px;\n",
              "  margin: -1px;\n",
              "  overflow: hidden;\n",
              "  padding: 0;\n",
              "  position: absolute;\n",
              "  width: 1px;\n",
              "}\n",
              "\n",
              "#sk-container-id-1 div.sk-dashed-wrapped {\n",
              "  border: 1px dashed var(--sklearn-color-line);\n",
              "  margin: 0 0.4em 0.5em 0.4em;\n",
              "  box-sizing: border-box;\n",
              "  padding-bottom: 0.4em;\n",
              "  background-color: var(--sklearn-color-background);\n",
              "}\n",
              "\n",
              "#sk-container-id-1 div.sk-container {\n",
              "  /* jupyter's `normalize.less` sets `[hidden] { display: none; }`\n",
              "     but bootstrap.min.css set `[hidden] { display: none !important; }`\n",
              "     so we also need the `!important` here to be able to override the\n",
              "     default hidden behavior on the sphinx rendered scikit-learn.org.\n",
              "     See: https://github.com/scikit-learn/scikit-learn/issues/21755 */\n",
              "  display: inline-block !important;\n",
              "  position: relative;\n",
              "}\n",
              "\n",
              "#sk-container-id-1 div.sk-text-repr-fallback {\n",
              "  display: none;\n",
              "}\n",
              "\n",
              "div.sk-parallel-item,\n",
              "div.sk-serial,\n",
              "div.sk-item {\n",
              "  /* draw centered vertical line to link estimators */\n",
              "  background-image: linear-gradient(var(--sklearn-color-text-on-default-background), var(--sklearn-color-text-on-default-background));\n",
              "  background-size: 2px 100%;\n",
              "  background-repeat: no-repeat;\n",
              "  background-position: center center;\n",
              "}\n",
              "\n",
              "/* Parallel-specific style estimator block */\n",
              "\n",
              "#sk-container-id-1 div.sk-parallel-item::after {\n",
              "  content: \"\";\n",
              "  width: 100%;\n",
              "  border-bottom: 2px solid var(--sklearn-color-text-on-default-background);\n",
              "  flex-grow: 1;\n",
              "}\n",
              "\n",
              "#sk-container-id-1 div.sk-parallel {\n",
              "  display: flex;\n",
              "  align-items: stretch;\n",
              "  justify-content: center;\n",
              "  background-color: var(--sklearn-color-background);\n",
              "  position: relative;\n",
              "}\n",
              "\n",
              "#sk-container-id-1 div.sk-parallel-item {\n",
              "  display: flex;\n",
              "  flex-direction: column;\n",
              "}\n",
              "\n",
              "#sk-container-id-1 div.sk-parallel-item:first-child::after {\n",
              "  align-self: flex-end;\n",
              "  width: 50%;\n",
              "}\n",
              "\n",
              "#sk-container-id-1 div.sk-parallel-item:last-child::after {\n",
              "  align-self: flex-start;\n",
              "  width: 50%;\n",
              "}\n",
              "\n",
              "#sk-container-id-1 div.sk-parallel-item:only-child::after {\n",
              "  width: 0;\n",
              "}\n",
              "\n",
              "/* Serial-specific style estimator block */\n",
              "\n",
              "#sk-container-id-1 div.sk-serial {\n",
              "  display: flex;\n",
              "  flex-direction: column;\n",
              "  align-items: center;\n",
              "  background-color: var(--sklearn-color-background);\n",
              "  padding-right: 1em;\n",
              "  padding-left: 1em;\n",
              "}\n",
              "\n",
              "\n",
              "/* Toggleable style: style used for estimator/Pipeline/ColumnTransformer box that is\n",
              "clickable and can be expanded/collapsed.\n",
              "- Pipeline and ColumnTransformer use this feature and define the default style\n",
              "- Estimators will overwrite some part of the style using the `sk-estimator` class\n",
              "*/\n",
              "\n",
              "/* Pipeline and ColumnTransformer style (default) */\n",
              "\n",
              "#sk-container-id-1 div.sk-toggleable {\n",
              "  /* Default theme specific background. It is overwritten whether we have a\n",
              "  specific estimator or a Pipeline/ColumnTransformer */\n",
              "  background-color: var(--sklearn-color-background);\n",
              "}\n",
              "\n",
              "/* Toggleable label */\n",
              "#sk-container-id-1 label.sk-toggleable__label {\n",
              "  cursor: pointer;\n",
              "  display: flex;\n",
              "  width: 100%;\n",
              "  margin-bottom: 0;\n",
              "  padding: 0.5em;\n",
              "  box-sizing: border-box;\n",
              "  text-align: center;\n",
              "  align-items: start;\n",
              "  justify-content: space-between;\n",
              "  gap: 0.5em;\n",
              "}\n",
              "\n",
              "#sk-container-id-1 label.sk-toggleable__label .caption {\n",
              "  font-size: 0.6rem;\n",
              "  font-weight: lighter;\n",
              "  color: var(--sklearn-color-text-muted);\n",
              "}\n",
              "\n",
              "#sk-container-id-1 label.sk-toggleable__label-arrow:before {\n",
              "  /* Arrow on the left of the label */\n",
              "  content: \"▸\";\n",
              "  float: left;\n",
              "  margin-right: 0.25em;\n",
              "  color: var(--sklearn-color-icon);\n",
              "}\n",
              "\n",
              "#sk-container-id-1 label.sk-toggleable__label-arrow:hover:before {\n",
              "  color: var(--sklearn-color-text);\n",
              "}\n",
              "\n",
              "/* Toggleable content - dropdown */\n",
              "\n",
              "#sk-container-id-1 div.sk-toggleable__content {\n",
              "  max-height: 0;\n",
              "  max-width: 0;\n",
              "  overflow: hidden;\n",
              "  text-align: left;\n",
              "  /* unfitted */\n",
              "  background-color: var(--sklearn-color-unfitted-level-0);\n",
              "}\n",
              "\n",
              "#sk-container-id-1 div.sk-toggleable__content.fitted {\n",
              "  /* fitted */\n",
              "  background-color: var(--sklearn-color-fitted-level-0);\n",
              "}\n",
              "\n",
              "#sk-container-id-1 div.sk-toggleable__content pre {\n",
              "  margin: 0.2em;\n",
              "  border-radius: 0.25em;\n",
              "  color: var(--sklearn-color-text);\n",
              "  /* unfitted */\n",
              "  background-color: var(--sklearn-color-unfitted-level-0);\n",
              "}\n",
              "\n",
              "#sk-container-id-1 div.sk-toggleable__content.fitted pre {\n",
              "  /* unfitted */\n",
              "  background-color: var(--sklearn-color-fitted-level-0);\n",
              "}\n",
              "\n",
              "#sk-container-id-1 input.sk-toggleable__control:checked~div.sk-toggleable__content {\n",
              "  /* Expand drop-down */\n",
              "  max-height: 200px;\n",
              "  max-width: 100%;\n",
              "  overflow: auto;\n",
              "}\n",
              "\n",
              "#sk-container-id-1 input.sk-toggleable__control:checked~label.sk-toggleable__label-arrow:before {\n",
              "  content: \"▾\";\n",
              "}\n",
              "\n",
              "/* Pipeline/ColumnTransformer-specific style */\n",
              "\n",
              "#sk-container-id-1 div.sk-label input.sk-toggleable__control:checked~label.sk-toggleable__label {\n",
              "  color: var(--sklearn-color-text);\n",
              "  background-color: var(--sklearn-color-unfitted-level-2);\n",
              "}\n",
              "\n",
              "#sk-container-id-1 div.sk-label.fitted input.sk-toggleable__control:checked~label.sk-toggleable__label {\n",
              "  background-color: var(--sklearn-color-fitted-level-2);\n",
              "}\n",
              "\n",
              "/* Estimator-specific style */\n",
              "\n",
              "/* Colorize estimator box */\n",
              "#sk-container-id-1 div.sk-estimator input.sk-toggleable__control:checked~label.sk-toggleable__label {\n",
              "  /* unfitted */\n",
              "  background-color: var(--sklearn-color-unfitted-level-2);\n",
              "}\n",
              "\n",
              "#sk-container-id-1 div.sk-estimator.fitted input.sk-toggleable__control:checked~label.sk-toggleable__label {\n",
              "  /* fitted */\n",
              "  background-color: var(--sklearn-color-fitted-level-2);\n",
              "}\n",
              "\n",
              "#sk-container-id-1 div.sk-label label.sk-toggleable__label,\n",
              "#sk-container-id-1 div.sk-label label {\n",
              "  /* The background is the default theme color */\n",
              "  color: var(--sklearn-color-text-on-default-background);\n",
              "}\n",
              "\n",
              "/* On hover, darken the color of the background */\n",
              "#sk-container-id-1 div.sk-label:hover label.sk-toggleable__label {\n",
              "  color: var(--sklearn-color-text);\n",
              "  background-color: var(--sklearn-color-unfitted-level-2);\n",
              "}\n",
              "\n",
              "/* Label box, darken color on hover, fitted */\n",
              "#sk-container-id-1 div.sk-label.fitted:hover label.sk-toggleable__label.fitted {\n",
              "  color: var(--sklearn-color-text);\n",
              "  background-color: var(--sklearn-color-fitted-level-2);\n",
              "}\n",
              "\n",
              "/* Estimator label */\n",
              "\n",
              "#sk-container-id-1 div.sk-label label {\n",
              "  font-family: monospace;\n",
              "  font-weight: bold;\n",
              "  display: inline-block;\n",
              "  line-height: 1.2em;\n",
              "}\n",
              "\n",
              "#sk-container-id-1 div.sk-label-container {\n",
              "  text-align: center;\n",
              "}\n",
              "\n",
              "/* Estimator-specific */\n",
              "#sk-container-id-1 div.sk-estimator {\n",
              "  font-family: monospace;\n",
              "  border: 1px dotted var(--sklearn-color-border-box);\n",
              "  border-radius: 0.25em;\n",
              "  box-sizing: border-box;\n",
              "  margin-bottom: 0.5em;\n",
              "  /* unfitted */\n",
              "  background-color: var(--sklearn-color-unfitted-level-0);\n",
              "}\n",
              "\n",
              "#sk-container-id-1 div.sk-estimator.fitted {\n",
              "  /* fitted */\n",
              "  background-color: var(--sklearn-color-fitted-level-0);\n",
              "}\n",
              "\n",
              "/* on hover */\n",
              "#sk-container-id-1 div.sk-estimator:hover {\n",
              "  /* unfitted */\n",
              "  background-color: var(--sklearn-color-unfitted-level-2);\n",
              "}\n",
              "\n",
              "#sk-container-id-1 div.sk-estimator.fitted:hover {\n",
              "  /* fitted */\n",
              "  background-color: var(--sklearn-color-fitted-level-2);\n",
              "}\n",
              "\n",
              "/* Specification for estimator info (e.g. \"i\" and \"?\") */\n",
              "\n",
              "/* Common style for \"i\" and \"?\" */\n",
              "\n",
              ".sk-estimator-doc-link,\n",
              "a:link.sk-estimator-doc-link,\n",
              "a:visited.sk-estimator-doc-link {\n",
              "  float: right;\n",
              "  font-size: smaller;\n",
              "  line-height: 1em;\n",
              "  font-family: monospace;\n",
              "  background-color: var(--sklearn-color-background);\n",
              "  border-radius: 1em;\n",
              "  height: 1em;\n",
              "  width: 1em;\n",
              "  text-decoration: none !important;\n",
              "  margin-left: 0.5em;\n",
              "  text-align: center;\n",
              "  /* unfitted */\n",
              "  border: var(--sklearn-color-unfitted-level-1) 1pt solid;\n",
              "  color: var(--sklearn-color-unfitted-level-1);\n",
              "}\n",
              "\n",
              ".sk-estimator-doc-link.fitted,\n",
              "a:link.sk-estimator-doc-link.fitted,\n",
              "a:visited.sk-estimator-doc-link.fitted {\n",
              "  /* fitted */\n",
              "  border: var(--sklearn-color-fitted-level-1) 1pt solid;\n",
              "  color: var(--sklearn-color-fitted-level-1);\n",
              "}\n",
              "\n",
              "/* On hover */\n",
              "div.sk-estimator:hover .sk-estimator-doc-link:hover,\n",
              ".sk-estimator-doc-link:hover,\n",
              "div.sk-label-container:hover .sk-estimator-doc-link:hover,\n",
              ".sk-estimator-doc-link:hover {\n",
              "  /* unfitted */\n",
              "  background-color: var(--sklearn-color-unfitted-level-3);\n",
              "  color: var(--sklearn-color-background);\n",
              "  text-decoration: none;\n",
              "}\n",
              "\n",
              "div.sk-estimator.fitted:hover .sk-estimator-doc-link.fitted:hover,\n",
              ".sk-estimator-doc-link.fitted:hover,\n",
              "div.sk-label-container:hover .sk-estimator-doc-link.fitted:hover,\n",
              ".sk-estimator-doc-link.fitted:hover {\n",
              "  /* fitted */\n",
              "  background-color: var(--sklearn-color-fitted-level-3);\n",
              "  color: var(--sklearn-color-background);\n",
              "  text-decoration: none;\n",
              "}\n",
              "\n",
              "/* Span, style for the box shown on hovering the info icon */\n",
              ".sk-estimator-doc-link span {\n",
              "  display: none;\n",
              "  z-index: 9999;\n",
              "  position: relative;\n",
              "  font-weight: normal;\n",
              "  right: .2ex;\n",
              "  padding: .5ex;\n",
              "  margin: .5ex;\n",
              "  width: min-content;\n",
              "  min-width: 20ex;\n",
              "  max-width: 50ex;\n",
              "  color: var(--sklearn-color-text);\n",
              "  box-shadow: 2pt 2pt 4pt #999;\n",
              "  /* unfitted */\n",
              "  background: var(--sklearn-color-unfitted-level-0);\n",
              "  border: .5pt solid var(--sklearn-color-unfitted-level-3);\n",
              "}\n",
              "\n",
              ".sk-estimator-doc-link.fitted span {\n",
              "  /* fitted */\n",
              "  background: var(--sklearn-color-fitted-level-0);\n",
              "  border: var(--sklearn-color-fitted-level-3);\n",
              "}\n",
              "\n",
              ".sk-estimator-doc-link:hover span {\n",
              "  display: block;\n",
              "}\n",
              "\n",
              "/* \"?\"-specific style due to the `<a>` HTML tag */\n",
              "\n",
              "#sk-container-id-1 a.estimator_doc_link {\n",
              "  float: right;\n",
              "  font-size: 1rem;\n",
              "  line-height: 1em;\n",
              "  font-family: monospace;\n",
              "  background-color: var(--sklearn-color-background);\n",
              "  border-radius: 1rem;\n",
              "  height: 1rem;\n",
              "  width: 1rem;\n",
              "  text-decoration: none;\n",
              "  /* unfitted */\n",
              "  color: var(--sklearn-color-unfitted-level-1);\n",
              "  border: var(--sklearn-color-unfitted-level-1) 1pt solid;\n",
              "}\n",
              "\n",
              "#sk-container-id-1 a.estimator_doc_link.fitted {\n",
              "  /* fitted */\n",
              "  border: var(--sklearn-color-fitted-level-1) 1pt solid;\n",
              "  color: var(--sklearn-color-fitted-level-1);\n",
              "}\n",
              "\n",
              "/* On hover */\n",
              "#sk-container-id-1 a.estimator_doc_link:hover {\n",
              "  /* unfitted */\n",
              "  background-color: var(--sklearn-color-unfitted-level-3);\n",
              "  color: var(--sklearn-color-background);\n",
              "  text-decoration: none;\n",
              "}\n",
              "\n",
              "#sk-container-id-1 a.estimator_doc_link.fitted:hover {\n",
              "  /* fitted */\n",
              "  background-color: var(--sklearn-color-fitted-level-3);\n",
              "}\n",
              "</style><div id=\"sk-container-id-1\" class=\"sk-top-container\"><div class=\"sk-text-repr-fallback\"><pre>RandomForestClassifier(n_estimators=300, oob_score=True, random_state=42)</pre><b>In a Jupyter environment, please rerun this cell to show the HTML representation or trust the notebook. <br />On GitHub, the HTML representation is unable to render, please try loading this page with nbviewer.org.</b></div><div class=\"sk-container\" hidden><div class=\"sk-item\"><div class=\"sk-estimator fitted sk-toggleable\"><input class=\"sk-toggleable__control sk-hidden--visually\" id=\"sk-estimator-id-1\" type=\"checkbox\" checked><label for=\"sk-estimator-id-1\" class=\"sk-toggleable__label fitted sk-toggleable__label-arrow\"><div><div>RandomForestClassifier</div></div><div><a class=\"sk-estimator-doc-link fitted\" rel=\"noreferrer\" target=\"_blank\" href=\"https://scikit-learn.org/1.6/modules/generated/sklearn.ensemble.RandomForestClassifier.html\">?<span>Documentation for RandomForestClassifier</span></a><span class=\"sk-estimator-doc-link fitted\">i<span>Fitted</span></span></div></label><div class=\"sk-toggleable__content fitted\"><pre>RandomForestClassifier(n_estimators=300, oob_score=True, random_state=42)</pre></div> </div></div></div></div>"
            ],
            "text/plain": [
              "RandomForestClassifier(n_estimators=300, oob_score=True, random_state=42)"
            ]
          },
          "execution_count": 23,
          "metadata": {},
          "output_type": "execute_result"
        },
        {
          "data": {
            "image/png": "[encoded data removed]",
            "text/plain": [
              "<Figure size 640x480 with 1 Axes>"
            ]
          },
          "metadata": {},
          "output_type": "display_data"
        }
      ],
      "source": [
        "# Training data\n",
        "# Prevent overfitting\n",
        "rf_model = RandomForestClassifier(\n",
        "    n_estimators=100,\n",
        "    max_depth=5, # 5 3\n",
        "    min_samples_split=10, # 10 15\n",
        "    min_samples_leaf=5, # 5 10\n",
        "    max_features='sqrt', # 'sqrt' 0.5\n",
        "    random_state=42\n",
        ")\n",
        "\n",
        "rf_model.fit(X_train_sm, y_train_sm)\n",
        "\n",
        "# EVALUATION 1\n",
        "evaluate_model(\"Random Forest Before Tuning\", rf_model, X_train_sm, X_val, X_test, y_train_sm, y_val, y_test)\n",
        "\n",
        "# EVALUATION 2\n",
        "plot_model(\"Random Forest Before Tuning\", rf_model)\n",
        "\n",
        "rf = RandomForestClassifier(oob_score=True, n_estimators=300, random_state=42)\n",
        "rf.fit(X_train, y_train)\n"
      ]
    },
    {
      "cell_type": "markdown",
      "metadata": {
        "id": "DwOqF4y5BN3s"
      },
      "source": [
        "# **DATA TUNING: RANDOM FOREST**"
      ]
    },
    {
      "cell_type": "code",
      "execution_count": 24,
      "metadata": {
        "colab": {
          "base_uri": "https://localhost:8080/"
        },
        "id": "6Wx1AoS2UBS2",
        "outputId": "e69ea8fe-fbf3-4316-a1f7-408e0087f7e2"
      },
      "outputs": [
        {
          "name": "stdout",
          "output_type": "stream",
          "text": [
            "Collecting optuna\n",
            "  Downloading optuna-4.4.0-py3-none-any.whl.metadata (17 kB)\n",
            "Collecting alembic>=1.5.0 (from optuna)\n",
            "  Downloading alembic-1.16.4-py3-none-any.whl.metadata (7.3 kB)\n",
            "Collecting colorlog (from optuna)\n",
            "  Downloading colorlog-6.9.0-py3-none-any.whl.metadata (10 kB)\n",
            "Requirement already satisfied: numpy in c:\\users\\fance\\.conda\\envs\\heartastic\\lib\\site-packages (from optuna) (2.2.6)\n",
            "Requirement already satisfied: packaging>=20.0 in c:\\users\\fance\\.conda\\envs\\heartastic\\lib\\site-packages (from optuna) (25.0)\n",
            "Collecting sqlalchemy>=1.4.2 (from optuna)\n",
            "  Downloading sqlalchemy-2.0.42-cp310-cp310-win_amd64.whl.metadata (9.8 kB)\n",
            "Collecting tqdm (from optuna)\n",
            "  Downloading tqdm-4.67.1-py3-none-any.whl.metadata (57 kB)\n",
            "Collecting PyYAML (from optuna)\n",
            "  Downloading PyYAML-6.0.2-cp310-cp310-win_amd64.whl.metadata (2.1 kB)\n",
            "Collecting Mako (from alembic>=1.5.0->optuna)\n",
            "  Downloading mako-1.3.10-py3-none-any.whl.metadata (2.9 kB)\n",
            "Requirement already satisfied: typing-extensions>=4.12 in c:\\users\\fance\\.conda\\envs\\heartastic\\lib\\site-packages (from alembic>=1.5.0->optuna) (4.14.1)\n",
            "Collecting tomli (from alembic>=1.5.0->optuna)\n",
            "  Downloading tomli-2.2.1-py3-none-any.whl.metadata (10 kB)\n",
            "Collecting greenlet>=1 (from sqlalchemy>=1.4.2->optuna)\n",
            "  Downloading greenlet-3.2.3-cp310-cp310-win_amd64.whl.metadata (4.2 kB)\n",
            "Requirement already satisfied: colorama in c:\\users\\fance\\.conda\\envs\\heartastic\\lib\\site-packages (from colorlog->optuna) (0.4.6)\n",
            "Requirement already satisfied: MarkupSafe>=0.9.2 in c:\\users\\fance\\.conda\\envs\\heartastic\\lib\\site-packages (from Mako->alembic>=1.5.0->optuna) (3.0.2)\n",
            "Downloading optuna-4.4.0-py3-none-any.whl (395 kB)\n",
            "Downloading alembic-1.16.4-py3-none-any.whl (247 kB)\n",
            "Downloading sqlalchemy-2.0.42-cp310-cp310-win_amd64.whl (2.1 MB)\n",
            "   ---------------------------------------- 0.0/2.1 MB ? eta -:--:--\n",
            "   ---- ----------------------------------- 0.3/2.1 MB ? eta -:--:--\n",
            "   -------------- ------------------------- 0.8/2.1 MB 2.2 MB/s eta 0:00:01\n",
            "   ------------------- -------------------- 1.0/2.1 MB 1.8 MB/s eta 0:00:01\n",
            "   ------------------------ --------------- 1.3/2.1 MB 1.8 MB/s eta 0:00:01\n",
            "   ---------------------------------- ----- 1.8/2.1 MB 1.8 MB/s eta 0:00:01\n",
            "   ---------------------------------------- 2.1/2.1 MB 1.8 MB/s eta 0:00:00\n",
            "Downloading greenlet-3.2.3-cp310-cp310-win_amd64.whl (296 kB)\n",
            "Downloading colorlog-6.9.0-py3-none-any.whl (11 kB)\n",
            "Downloading mako-1.3.10-py3-none-any.whl (78 kB)\n",
            "Downloading PyYAML-6.0.2-cp310-cp310-win_amd64.whl (161 kB)\n",
            "Downloading tomli-2.2.1-py3-none-any.whl (14 kB)\n",
            "Downloading tqdm-4.67.1-py3-none-any.whl (78 kB)\n",
            "Installing collected packages: tqdm, tomli, PyYAML, Mako, greenlet, colorlog, sqlalchemy, alembic, optuna\n",
            "\n",
            "   ---------------------------------------- 0/9 [tqdm]\n",
            "   ---------------------------------------- 0/9 [tqdm]\n",
            "   ---------------------------------------- 0/9 [tqdm]\n",
            "   ---------------------------------------- 0/9 [tqdm]\n",
            "   -------- ------------------------------- 2/9 [PyYAML]\n",
            "   -------- ------------------------------- 2/9 [PyYAML]\n",
            "   -------- ------------------------------- 2/9 [PyYAML]\n",
            "   ------------- -------------------------- 3/9 [Mako]\n",
            "   ------------- -------------------------- 3/9 [Mako]\n",
            "   ------------- -------------------------- 3/9 [Mako]\n",
            "   ------------- -------------------------- 3/9 [Mako]\n",
            "   ------------- -------------------------- 3/9 [Mako]\n",
            "   ----------------- ---------------------- 4/9 [greenlet]\n",
            "   ----------------- ---------------------- 4/9 [greenlet]\n",
            "   ----------------- ---------------------- 4/9 [greenlet]\n",
            "   ---------------------- ----------------- 5/9 [colorlog]\n",
            "   -------------------------- ------------- 6/9 [sqlalchemy]\n",
            "   -------------------------- ------------- 6/9 [sqlalchemy]\n",
            "   -------------------------- ------------- 6/9 [sqlalchemy]\n",
            "   -------------------------- ------------- 6/9 [sqlalchemy]\n",
            "   -------------------------- ------------- 6/9 [sqlalchemy]\n",
            "   -------------------------- ------------- 6/9 [sqlalchemy]\n",
            "   -------------------------- ------------- 6/9 [sqlalchemy]\n",
            "   -------------------------- ------------- 6/9 [sqlalchemy]\n",
            "   -------------------------- ------------- 6/9 [sqlalchemy]\n",
            "   -------------------------- ------------- 6/9 [sqlalchemy]\n",
            "   -------------------------- ------------- 6/9 [sqlalchemy]\n",
            "   -------------------------- ------------- 6/9 [sqlalchemy]\n",
            "   -------------------------- ------------- 6/9 [sqlalchemy]\n",
            "   -------------------------- ------------- 6/9 [sqlalchemy]\n",
            "   -------------------------- ------------- 6/9 [sqlalchemy]\n",
            "   -------------------------- ------------- 6/9 [sqlalchemy]\n",
            "   -------------------------- ------------- 6/9 [sqlalchemy]\n",
            "   -------------------------- ------------- 6/9 [sqlalchemy]\n",
            "   -------------------------- ------------- 6/9 [sqlalchemy]\n",
            "   -------------------------- ------------- 6/9 [sqlalchemy]\n",
            "   -------------------------- ------------- 6/9 [sqlalchemy]\n",
            "   -------------------------- ------------- 6/9 [sqlalchemy]\n",
            "   -------------------------- ------------- 6/9 [sqlalchemy]\n",
            "   -------------------------- ------------- 6/9 [sqlalchemy]\n",
            "   -------------------------- ------------- 6/9 [sqlalchemy]\n",
            "   -------------------------- ------------- 6/9 [sqlalchemy]\n",
            "   -------------------------- ------------- 6/9 [sqlalchemy]\n",
            "   -------------------------- ------------- 6/9 [sqlalchemy]\n",
            "   -------------------------- ------------- 6/9 [sqlalchemy]\n",
            "   -------------------------- ------------- 6/9 [sqlalchemy]\n",
            "   -------------------------- ------------- 6/9 [sqlalchemy]\n",
            "   -------------------------- ------------- 6/9 [sqlalchemy]\n",
            "   -------------------------- ------------- 6/9 [sqlalchemy]\n",
            "   -------------------------- ------------- 6/9 [sqlalchemy]\n",
            "   -------------------------- ------------- 6/9 [sqlalchemy]\n",
            "   -------------------------- ------------- 6/9 [sqlalchemy]\n",
            "   -------------------------- ------------- 6/9 [sqlalchemy]\n",
            "   -------------------------- ------------- 6/9 [sqlalchemy]\n",
            "   -------------------------- ------------- 6/9 [sqlalchemy]\n",
            "   -------------------------- ------------- 6/9 [sqlalchemy]\n",
            "   -------------------------- ------------- 6/9 [sqlalchemy]\n",
            "   -------------------------- ------------- 6/9 [sqlalchemy]\n",
            "   -------------------------- ------------- 6/9 [sqlalchemy]\n",
            "   ------------------------------- -------- 7/9 [alembic]\n",
            "   ------------------------------- -------- 7/9 [alembic]\n",
            "   ------------------------------- -------- 7/9 [alembic]\n",
            "   ------------------------------- -------- 7/9 [alembic]\n",
            "   ------------------------------- -------- 7/9 [alembic]\n",
            "   ------------------------------- -------- 7/9 [alembic]\n",
            "   ------------------------------- -------- 7/9 [alembic]\n",
            "   ------------------------------- -------- 7/9 [alembic]\n",
            "   ------------------------------- -------- 7/9 [alembic]\n",
            "   ------------------------------- -------- 7/9 [alembic]\n",
            "   ------------------------------- -------- 7/9 [alembic]\n",
            "   ----------------------------------- ---- 8/9 [optuna]\n",
            "   ----------------------------------- ---- 8/9 [optuna]\n",
            "   ----------------------------------- ---- 8/9 [optuna]\n",
            "   ----------------------------------- ---- 8/9 [optuna]\n",
            "   ----------------------------------- ---- 8/9 [optuna]\n",
            "   ----------------------------------- ---- 8/9 [optuna]\n",
            "   ----------------------------------- ---- 8/9 [optuna]\n",
            "   ----------------------------------- ---- 8/9 [optuna]\n",
            "   ----------------------------------- ---- 8/9 [optuna]\n",
            "   ----------------------------------- ---- 8/9 [optuna]\n",
            "   ----------------------------------- ---- 8/9 [optuna]\n",
            "   ----------------------------------- ---- 8/9 [optuna]\n",
            "   ----------------------------------- ---- 8/9 [optuna]\n",
            "   ----------------------------------- ---- 8/9 [optuna]\n",
            "   ----------------------------------- ---- 8/9 [optuna]\n",
            "   ----------------------------------- ---- 8/9 [optuna]\n",
            "   ----------------------------------- ---- 8/9 [optuna]\n",
            "   ----------------------------------- ---- 8/9 [optuna]\n",
            "   ----------------------------------- ---- 8/9 [optuna]\n",
            "   ----------------------------------- ---- 8/9 [optuna]\n",
            "   ----------------------------------- ---- 8/9 [optuna]\n",
            "   ----------------------------------- ---- 8/9 [optuna]\n",
            "   ----------------------------------- ---- 8/9 [optuna]\n",
            "   ----------------------------------- ---- 8/9 [optuna]\n",
            "   ----------------------------------- ---- 8/9 [optuna]\n",
            "   ----------------------------------- ---- 8/9 [optuna]\n",
            "   ----------------------------------- ---- 8/9 [optuna]\n",
            "   ---------------------------------------- 9/9 [optuna]\n",
            "\n",
            "Successfully installed Mako-1.3.10 PyYAML-6.0.2 alembic-1.16.4 colorlog-6.9.0 greenlet-3.2.3 optuna-4.4.0 sqlalchemy-2.0.42 tomli-2.2.1 tqdm-4.67.1\n",
            "Note: you may need to restart the kernel to use updated packages.\n"
          ]
        }
      ],
      "source": [
        "pip install optuna"
      ]
    },
    {
      "cell_type": "code",
      "execution_count": 25,
      "metadata": {
        "colab": {
          "base_uri": "https://localhost:8080/",
          "height": 642,
          "referenced_widgets": [
            "a390e2c406de450797e2cfbee67fe3b1",
            "202c3b79ea7d49709d47a0f2ab085d6b",
            "9e1513a6229a41f9bf8860bf8cb6ecca",
            "c82c2893371a4ecc93f2d09ee07ea5f4",
            "10d71787054e49ee917536a25de772e6",
            "49bf02e70bbe477d8814c2dcd901824b",
            "09ed17a8aa68478388b62cb1dc93afeb",
            "e12fbc17b1a849cd8b75d4e6f6fd3911",
            "0b662972e48046f6b855f9dd95a8c4de",
            "93095169becb4e5bb66745a5df378c37",
            "cbe182140dd249da868dd727f4ce27dd"
          ]
        },
        "id": "dyg9KEQlYnwr",
        "outputId": "940bea29-6b15-4562-9d02-1df659e69dfe"
      },
      "outputs": [
        {
          "name": "stderr",
          "output_type": "stream",
          "text": [
            "c:\\Users\\fance\\.conda\\envs\\heartastic\\lib\\site-packages\\tqdm\\auto.py:21: TqdmWarning: IProgress not found. Please update jupyter and ipywidgets. See https://ipywidgets.readthedocs.io/en/stable/user_install.html\n",
            "  from .autonotebook import tqdm as notebook_tqdm\n",
            "[I 2025-08-04 18:03:04,069] A new study created in memory with name: no-name-03a6f2a2-e6c8-4ebb-8864-1d7dc55b2d69\n",
            "Best trial: 0. Best value: 0.908892:   3%|▎         | 1/30 [00:14<07:07, 14.75s/it]"
          ]
        },
        {
          "name": "stdout",
          "output_type": "stream",
          "text": [
            "[I 2025-08-04 18:03:18,822] Trial 0 finished with value: 0.9088919185033703 and parameters: {'n_estimators': 281, 'max_depth': 8, 'min_samples_split': 9, 'min_samples_leaf': 9, 'max_features': 0.3}. Best is trial 0 with value: 0.9088919185033703.\n"
          ]
        },
        {
          "name": "stderr",
          "output_type": "stream",
          "text": [
            "Best trial: 0. Best value: 0.908892:   7%|▋         | 2/30 [00:16<03:20,  7.15s/it]"
          ]
        },
        {
          "name": "stdout",
          "output_type": "stream",
          "text": [
            "[I 2025-08-04 18:03:20,653] Trial 1 finished with value: 0.9064379307733091 and parameters: {'n_estimators': 164, 'max_depth': 13, 'min_samples_split': 6, 'min_samples_leaf': 10, 'max_features': 'log2'}. Best is trial 0 with value: 0.9088919185033703.\n"
          ]
        },
        {
          "name": "stderr",
          "output_type": "stream",
          "text": [
            "Best trial: 2. Best value: 0.923692:  10%|█         | 3/30 [00:18<02:03,  4.58s/it]"
          ]
        },
        {
          "name": "stdout",
          "output_type": "stream",
          "text": [
            "[I 2025-08-04 18:03:22,182] Trial 2 finished with value: 0.9236915852457775 and parameters: {'n_estimators': 123, 'max_depth': 9, 'min_samples_split': 20, 'min_samples_leaf': 3, 'max_features': 0.5}. Best is trial 2 with value: 0.9236915852457775.\n"
          ]
        },
        {
          "name": "stderr",
          "output_type": "stream",
          "text": [
            "Best trial: 2. Best value: 0.923692:  13%|█▎        | 4/30 [00:18<01:16,  2.95s/it]"
          ]
        },
        {
          "name": "stdout",
          "output_type": "stream",
          "text": [
            "[I 2025-08-04 18:03:22,620] Trial 3 finished with value: 0.9101113383321973 and parameters: {'n_estimators': 248, 'max_depth': 13, 'min_samples_split': 20, 'min_samples_leaf': 6, 'max_features': 0.3}. Best is trial 2 with value: 0.9236915852457775.\n"
          ]
        },
        {
          "name": "stderr",
          "output_type": "stream",
          "text": [
            "Best trial: 2. Best value: 0.923692:  17%|█▋        | 5/30 [00:18<00:49,  1.98s/it]"
          ]
        },
        {
          "name": "stdout",
          "output_type": "stream",
          "text": [
            "[I 2025-08-04 18:03:22,887] Trial 4 finished with value: 0.9076649246383397 and parameters: {'n_estimators': 145, 'max_depth': 7, 'min_samples_split': 14, 'min_samples_leaf': 8, 'max_features': 0.3}. Best is trial 2 with value: 0.9236915852457775.\n"
          ]
        },
        {
          "name": "stderr",
          "output_type": "stream",
          "text": [
            "Best trial: 2. Best value: 0.923692:  20%|██        | 6/30 [00:19<00:33,  1.38s/it]"
          ]
        },
        {
          "name": "stdout",
          "output_type": "stream",
          "text": [
            "[I 2025-08-04 18:03:23,091] Trial 5 finished with value: 0.9113534802696357 and parameters: {'n_estimators': 105, 'max_depth': 4, 'min_samples_split': 4, 'min_samples_leaf': 1, 'max_features': 'sqrt'}. Best is trial 2 with value: 0.9236915852457775.\n"
          ]
        },
        {
          "name": "stderr",
          "output_type": "stream",
          "text": [
            "Best trial: 2. Best value: 0.923692:  23%|██▎       | 7/30 [00:19<00:24,  1.08s/it]"
          ]
        },
        {
          "name": "stdout",
          "output_type": "stream",
          "text": [
            "[I 2025-08-04 18:03:23,563] Trial 6 finished with value: 0.9101264864046051 and parameters: {'n_estimators': 285, 'max_depth': 9, 'min_samples_split': 14, 'min_samples_leaf': 8, 'max_features': 'sqrt'}. Best is trial 2 with value: 0.9236915852457775.\n"
          ]
        },
        {
          "name": "stderr",
          "output_type": "stream",
          "text": [
            "Best trial: 2. Best value: 0.923692:  27%|██▋       | 8/30 [00:19<00:19,  1.13it/s]"
          ]
        },
        {
          "name": "stdout",
          "output_type": "stream",
          "text": [
            "[I 2025-08-04 18:03:24,032] Trial 7 finished with value: 0.9125956222070741 and parameters: {'n_estimators': 262, 'max_depth': 15, 'min_samples_split': 12, 'min_samples_leaf': 9, 'max_features': 0.7}. Best is trial 2 with value: 0.9236915852457775.\n"
          ]
        },
        {
          "name": "stderr",
          "output_type": "stream",
          "text": [
            "Best trial: 2. Best value: 0.923692:  30%|███       | 9/30 [00:20<00:15,  1.34it/s]"
          ]
        },
        {
          "name": "stdout",
          "output_type": "stream",
          "text": [
            "[I 2025-08-04 18:03:24,468] Trial 8 finished with value: 0.9088919185033705 and parameters: {'n_estimators': 259, 'max_depth': 7, 'min_samples_split': 13, 'min_samples_leaf': 6, 'max_features': 'sqrt'}. Best is trial 2 with value: 0.9236915852457775.\n"
          ]
        },
        {
          "name": "stderr",
          "output_type": "stream",
          "text": [
            "Best trial: 2. Best value: 0.923692:  33%|███▎      | 10/30 [00:20<00:13,  1.46it/s]"
          ]
        },
        {
          "name": "stdout",
          "output_type": "stream",
          "text": [
            "[I 2025-08-04 18:03:25,011] Trial 9 finished with value: 0.9187533136408392 and parameters: {'n_estimators': 299, 'max_depth': 15, 'min_samples_split': 14, 'min_samples_leaf': 7, 'max_features': 0.7}. Best is trial 2 with value: 0.9236915852457775.\n"
          ]
        },
        {
          "name": "stderr",
          "output_type": "stream",
          "text": [
            "Best trial: 2. Best value: 0.923692:  37%|███▋      | 11/30 [00:21<00:11,  1.72it/s]"
          ]
        },
        {
          "name": "stdout",
          "output_type": "stream",
          "text": [
            "[I 2025-08-04 18:03:25,365] Trial 10 finished with value: 0.8965765356358404 and parameters: {'n_estimators': 207, 'max_depth': 3, 'min_samples_split': 20, 'min_samples_leaf': 3, 'max_features': 0.5}. Best is trial 2 with value: 0.9236915852457775.\n"
          ]
        },
        {
          "name": "stderr",
          "output_type": "stream",
          "text": [
            "Best trial: 11. Best value: 0.926146:  40%|████      | 12/30 [00:21<00:09,  1.89it/s]"
          ]
        },
        {
          "name": "stdout",
          "output_type": "stream",
          "text": [
            "[I 2025-08-04 18:03:25,771] Trial 11 finished with value: 0.9261455729758389 and parameters: {'n_estimators': 216, 'max_depth': 11, 'min_samples_split': 17, 'min_samples_leaf': 4, 'max_features': 0.5}. Best is trial 11 with value: 0.9261455729758389.\n"
          ]
        },
        {
          "name": "stderr",
          "output_type": "stream",
          "text": [
            "Best trial: 12. Best value: 0.92738:  43%|████▎     | 13/30 [00:22<00:08,  2.06it/s] "
          ]
        },
        {
          "name": "stdout",
          "output_type": "stream",
          "text": [
            "[I 2025-08-04 18:03:26,159] Trial 12 finished with value: 0.9273801408770733 and parameters: {'n_estimators': 212, 'max_depth': 11, 'min_samples_split': 17, 'min_samples_leaf': 4, 'max_features': 0.5}. Best is trial 12 with value: 0.9273801408770733.\n"
          ]
        },
        {
          "name": "stderr",
          "output_type": "stream",
          "text": [
            "Best trial: 13. Best value: 0.933545:  47%|████▋     | 14/30 [00:22<00:07,  2.17it/s]"
          ]
        },
        {
          "name": "stdout",
          "output_type": "stream",
          "text": [
            "[I 2025-08-04 18:03:26,563] Trial 13 finished with value: 0.9335454063470424 and parameters: {'n_estimators': 207, 'max_depth': 11, 'min_samples_split': 16, 'min_samples_leaf': 4, 'max_features': 0.5}. Best is trial 13 with value: 0.9335454063470424.\n"
          ]
        },
        {
          "name": "stderr",
          "output_type": "stream",
          "text": [
            "Best trial: 13. Best value: 0.933545:  50%|█████     | 15/30 [00:22<00:06,  2.38it/s]"
          ]
        },
        {
          "name": "stdout",
          "output_type": "stream",
          "text": [
            "[I 2025-08-04 18:03:26,886] Trial 14 finished with value: 0.9224570173445429 and parameters: {'n_estimators': 174, 'max_depth': 12, 'min_samples_split': 17, 'min_samples_leaf': 4, 'max_features': 0.5}. Best is trial 13 with value: 0.9335454063470424.\n"
          ]
        },
        {
          "name": "stderr",
          "output_type": "stream",
          "text": [
            "Best trial: 13. Best value: 0.933545:  53%|█████▎    | 16/30 [00:23<00:05,  2.38it/s]"
          ]
        },
        {
          "name": "stdout",
          "output_type": "stream",
          "text": [
            "[I 2025-08-04 18:03:27,310] Trial 15 finished with value: 0.9298417026433388 and parameters: {'n_estimators': 230, 'max_depth': 11, 'min_samples_split': 17, 'min_samples_leaf': 1, 'max_features': 0.5}. Best is trial 13 with value: 0.9335454063470424.\n"
          ]
        },
        {
          "name": "stderr",
          "output_type": "stream",
          "text": [
            "Best trial: 13. Best value: 0.933545:  57%|█████▋    | 17/30 [00:23<00:05,  2.35it/s]"
          ]
        },
        {
          "name": "stdout",
          "output_type": "stream",
          "text": [
            "[I 2025-08-04 18:03:27,750] Trial 16 finished with value: 0.9323108384458078 and parameters: {'n_estimators': 232, 'max_depth': 10, 'min_samples_split': 9, 'min_samples_leaf': 1, 'max_features': 'log2'}. Best is trial 13 with value: 0.9335454063470424.\n"
          ]
        },
        {
          "name": "stderr",
          "output_type": "stream",
          "text": [
            "Best trial: 13. Best value: 0.933545:  60%|██████    | 18/30 [00:23<00:04,  2.53it/s]"
          ]
        },
        {
          "name": "stdout",
          "output_type": "stream",
          "text": [
            "[I 2025-08-04 18:03:28,075] Trial 17 finished with value: 0.9162766038021661 and parameters: {'n_estimators': 182, 'max_depth': 5, 'min_samples_split': 9, 'min_samples_leaf': 2, 'max_features': 'log2'}. Best is trial 13 with value: 0.9335454063470424.\n"
          ]
        },
        {
          "name": "stderr",
          "output_type": "stream",
          "text": [
            "Best trial: 13. Best value: 0.933545:  63%|██████▎   | 19/30 [00:24<00:04,  2.51it/s]"
          ]
        },
        {
          "name": "stdout",
          "output_type": "stream",
          "text": [
            "[I 2025-08-04 18:03:28,481] Trial 18 finished with value: 0.9323108384458078 and parameters: {'n_estimators': 230, 'max_depth': 10, 'min_samples_split': 9, 'min_samples_leaf': 2, 'max_features': 'log2'}. Best is trial 13 with value: 0.9335454063470424.\n"
          ]
        },
        {
          "name": "stderr",
          "output_type": "stream",
          "text": [
            "Best trial: 13. Best value: 0.933545:  67%|██████▋   | 20/30 [00:24<00:03,  2.65it/s]"
          ]
        },
        {
          "name": "stdout",
          "output_type": "stream",
          "text": [
            "[I 2025-08-04 18:03:28,810] Trial 19 finished with value: 0.9089070665757781 and parameters: {'n_estimators': 188, 'max_depth': 6, 'min_samples_split': 2, 'min_samples_leaf': 5, 'max_features': 'log2'}. Best is trial 13 with value: 0.9335454063470424.\n"
          ]
        },
        {
          "name": "stderr",
          "output_type": "stream",
          "text": [
            "Best trial: 13. Best value: 0.933545:  70%|███████   | 21/30 [00:25<00:03,  2.83it/s]"
          ]
        },
        {
          "name": "stdout",
          "output_type": "stream",
          "text": [
            "[I 2025-08-04 18:03:29,105] Trial 20 finished with value: 0.9310384003635537 and parameters: {'n_estimators': 149, 'max_depth': 13, 'min_samples_split': 7, 'min_samples_leaf': 2, 'max_features': 'log2'}. Best is trial 13 with value: 0.9335454063470424.\n"
          ]
        },
        {
          "name": "stderr",
          "output_type": "stream",
          "text": [
            "Best trial: 13. Best value: 0.933545:  73%|███████▎  | 22/30 [00:25<00:02,  2.71it/s]"
          ]
        },
        {
          "name": "stdout",
          "output_type": "stream",
          "text": [
            "[I 2025-08-04 18:03:29,510] Trial 21 finished with value: 0.9310686965083693 and parameters: {'n_estimators': 235, 'max_depth': 10, 'min_samples_split': 10, 'min_samples_leaf': 2, 'max_features': 'log2'}. Best is trial 13 with value: 0.9335454063470424.\n"
          ]
        },
        {
          "name": "stderr",
          "output_type": "stream",
          "text": [
            "Best trial: 13. Best value: 0.933545:  77%|███████▋  | 23/30 [00:25<00:02,  2.65it/s]"
          ]
        },
        {
          "name": "stdout",
          "output_type": "stream",
          "text": [
            "[I 2025-08-04 18:03:29,909] Trial 22 finished with value: 0.9310838445807772 and parameters: {'n_estimators': 232, 'max_depth': 9, 'min_samples_split': 7, 'min_samples_leaf': 1, 'max_features': 'log2'}. Best is trial 13 with value: 0.9335454063470424.\n"
          ]
        },
        {
          "name": "stderr",
          "output_type": "stream",
          "text": [
            "Best trial: 13. Best value: 0.933545:  80%|████████  | 24/30 [00:26<00:02,  2.66it/s]"
          ]
        },
        {
          "name": "stdout",
          "output_type": "stream",
          "text": [
            "[I 2025-08-04 18:03:30,279] Trial 23 finished with value: 0.9249185791108081 and parameters: {'n_estimators': 194, 'max_depth': 10, 'min_samples_split': 11, 'min_samples_leaf': 3, 'max_features': 'log2'}. Best is trial 13 with value: 0.9335454063470424.\n"
          ]
        },
        {
          "name": "stderr",
          "output_type": "stream",
          "text": [
            "Best trial: 13. Best value: 0.933545:  83%|████████▎ | 25/30 [00:26<00:01,  2.55it/s]"
          ]
        },
        {
          "name": "stdout",
          "output_type": "stream",
          "text": [
            "[I 2025-08-04 18:03:30,711] Trial 24 finished with value: 0.9273877149132774 and parameters: {'n_estimators': 223, 'max_depth': 12, 'min_samples_split': 9, 'min_samples_leaf': 2, 'max_features': 'log2'}. Best is trial 13 with value: 0.9335454063470424.\n"
          ]
        },
        {
          "name": "stderr",
          "output_type": "stream",
          "text": [
            "Best trial: 13. Best value: 0.933545:  87%|████████▋ | 26/30 [00:27<00:01,  2.36it/s]"
          ]
        },
        {
          "name": "stdout",
          "output_type": "stream",
          "text": [
            "[I 2025-08-04 18:03:31,211] Trial 25 finished with value: 0.9249034310384003 and parameters: {'n_estimators': 248, 'max_depth': 10, 'min_samples_split': 5, 'min_samples_leaf': 5, 'max_features': 0.7}. Best is trial 13 with value: 0.9335454063470424.\n"
          ]
        },
        {
          "name": "stderr",
          "output_type": "stream",
          "text": [
            "Best trial: 13. Best value: 0.933545:  90%|█████████ | 27/30 [00:27<00:01,  2.39it/s]"
          ]
        },
        {
          "name": "stdout",
          "output_type": "stream",
          "text": [
            "[I 2025-08-04 18:03:31,614] Trial 26 finished with value: 0.9224570173445429 and parameters: {'n_estimators': 199, 'max_depth': 8, 'min_samples_split': 11, 'min_samples_leaf': 3, 'max_features': 'log2'}. Best is trial 13 with value: 0.9335454063470424.\n"
          ]
        },
        {
          "name": "stderr",
          "output_type": "stream",
          "text": [
            "Best trial: 13. Best value: 0.933545:  93%|█████████▎| 28/30 [00:28<00:00,  2.26it/s]"
          ]
        },
        {
          "name": "stdout",
          "output_type": "stream",
          "text": [
            "[I 2025-08-04 18:03:32,113] Trial 27 finished with value: 0.9298417026433385 and parameters: {'n_estimators': 251, 'max_depth': 12, 'min_samples_split': 8, 'min_samples_leaf': 1, 'max_features': 'log2'}. Best is trial 13 with value: 0.9335454063470424.\n"
          ]
        },
        {
          "name": "stderr",
          "output_type": "stream",
          "text": [
            "Best trial: 13. Best value: 0.933545:  97%|█████████▋| 29/30 [00:28<00:00,  2.14it/s]"
          ]
        },
        {
          "name": "stdout",
          "output_type": "stream",
          "text": [
            "[I 2025-08-04 18:03:32,640] Trial 28 finished with value: 0.9298417026433385 and parameters: {'n_estimators': 268, 'max_depth': 14, 'min_samples_split': 15, 'min_samples_leaf': 4, 'max_features': 0.5}. Best is trial 13 with value: 0.9335454063470424.\n"
          ]
        },
        {
          "name": "stderr",
          "output_type": "stream",
          "text": [
            "Best trial: 13. Best value: 0.933545: 100%|██████████| 30/30 [00:29<00:00,  1.03it/s]"
          ]
        },
        {
          "name": "stdout",
          "output_type": "stream",
          "text": [
            "[I 2025-08-04 18:03:33,171] Trial 29 finished with value: 0.9285995607059 and parameters: {'n_estimators': 277, 'max_depth': 8, 'min_samples_split': 10, 'min_samples_leaf': 2, 'max_features': 0.3}. Best is trial 13 with value: 0.9335454063470424.\n",
            "Best Parameters (Random Forest - Optuna): {'n_estimators': 207, 'max_depth': 11, 'min_samples_split': 16, 'min_samples_leaf': 4, 'max_features': 0.5}\n",
            "Best CV Score: 0.9335454063470424\n"
          ]
        },
        {
          "name": "stderr",
          "output_type": "stream",
          "text": [
            "\n"
          ]
        }
      ],
      "source": [
        "import optuna\n",
        "from sklearn.ensemble import RandomForestClassifier\n",
        "from sklearn.model_selection import StratifiedKFold, cross_val_score\n",
        "\n",
        "# Objective Function Optuna\n",
        "def objective_rf(trial):\n",
        "    params = {\n",
        "        'n_estimators': trial.suggest_int('n_estimators', 100, 300),\n",
        "        'max_depth': trial.suggest_int('max_depth', 3, 15),\n",
        "        'min_samples_split': trial.suggest_int('min_samples_split', 2, 20),\n",
        "        'min_samples_leaf': trial.suggest_int('min_samples_leaf', 1, 10),\n",
        "        'max_features': trial.suggest_categorical('max_features', ['sqrt', 'log2', 0.3, 0.5, 0.7]),\n",
        "        'random_state': 42,\n",
        "        'oob_score': True,\n",
        "        'bootstrap': True\n",
        "    }\n",
        "\n",
        "    model = RandomForestClassifier(**params)\n",
        "    cv = StratifiedKFold(n_splits=5, shuffle=True, random_state=42)\n",
        "\n",
        "    return cross_val_score(model, X_train_sm, y_train_sm, cv=cv, scoring='accuracy', n_jobs=-1).mean()\n",
        "\n",
        "study_rf = optuna.create_study(direction=\"maximize\")\n",
        "study_rf.optimize(objective_rf, n_trials=30, show_progress_bar=True)\n",
        "\n",
        "print(\"Best Parameters (Random Forest - Optuna):\", study_rf.best_trial.params)\n",
        "print(\"Best CV Score:\", study_rf.best_value)\n"
      ]
    },
    {
      "cell_type": "code",
      "execution_count": 26,
      "metadata": {
        "colab": {
          "base_uri": "https://localhost:8080/",
          "height": 802
        },
        "id": "9STFuOIGZTPq",
        "outputId": "a7401c07-dc75-42e5-9a2c-46d18d2b247b"
      },
      "outputs": [
        {
          "name": "stdout",
          "output_type": "stream",
          "text": [
            "\n",
            "=== Evaluation Random Forest After Optuna Tuning ===\n",
            "Train Accuracy: 0.9667487684729064\n",
            "Validation Accuracy: 0.9402985074626866\n",
            "Test Accuracy: 0.8686868686868687\n",
            "\n",
            "Classification Report (Test):\n",
            "               precision    recall  f1-score   support\n",
            "\n",
            "           0       0.87      0.81      0.84        42\n",
            "           1       0.87      0.91      0.89        57\n",
            "\n",
            "    accuracy                           0.87        99\n",
            "   macro avg       0.87      0.86      0.86        99\n",
            "weighted avg       0.87      0.87      0.87        99\n",
            "\n",
            "Confusion Matrix:\n",
            " [[34  8]\n",
            " [ 5 52]]\n"
          ]
        },
        {
          "data": {
            "image/png": "[encoded data removed]",
            "text/plain": [
              "<Figure size 640x480 with 1 Axes>"
            ]
          },
          "metadata": {},
          "output_type": "display_data"
        }
      ],
      "source": [
        "best_params = study_rf.best_trial.params\n",
        "best_params['random_state'] = 42\n",
        "best_params['oob_score'] = True\n",
        "best_params['bootstrap'] = True\n",
        "\n",
        "best_rf_model = RandomForestClassifier(**best_params)\n",
        "best_rf_model.fit(X_train_sm, y_train_sm)\n",
        "\n",
        "# Evaluation\n",
        "evaluate_model(\"Random Forest After Optuna Tuning\", best_rf_model, X_train_sm, X_val, X_test, y_train_sm, y_val, y_test)\n",
        "plot_model(\"Random Forest After Optuna Tuning\", best_rf_model)"
      ]
    },
    {
      "cell_type": "markdown",
      "metadata": {
        "id": "y4KRsQljnEJr"
      },
      "source": [
        "# **2. XGBoost**"
      ]
    },
    {
      "cell_type": "code",
      "execution_count": 27,
      "metadata": {
        "colab": {
          "base_uri": "https://localhost:8080/",
          "height": 802
        },
        "id": "b7v5epZ4nHjr",
        "outputId": "108b79ab-1b03-4db4-856c-d71efc88b5ba"
      },
      "outputs": [
        {
          "name": "stdout",
          "output_type": "stream",
          "text": [
            "\n",
            "=== Evaluation XGBoost Before Tuning ===\n",
            "Train Accuracy: 0.9704433497536946\n",
            "Validation Accuracy: 0.945273631840796\n",
            "Test Accuracy: 0.8888888888888888\n",
            "\n",
            "Classification Report (Test):\n",
            "               precision    recall  f1-score   support\n",
            "\n",
            "           0       0.90      0.83      0.86        42\n",
            "           1       0.88      0.93      0.91        57\n",
            "\n",
            "    accuracy                           0.89        99\n",
            "   macro avg       0.89      0.88      0.89        99\n",
            "weighted avg       0.89      0.89      0.89        99\n",
            "\n",
            "Confusion Matrix:\n",
            " [[35  7]\n",
            " [ 4 53]]\n"
          ]
        },
        {
          "data": {
            "image/png": "[encoded data removed]",
            "text/plain": [
              "<Figure size 640x480 with 1 Axes>"
            ]
          },
          "metadata": {},
          "output_type": "display_data"
        }
      ],
      "source": [
        "from xgboost import XGBClassifier\n",
        "from sklearn.metrics import accuracy_score, classification_report, confusion_matrix\n",
        "\n",
        "xgb_model = XGBClassifier(\n",
        "    n_estimators=100, # 100 150\n",
        "    max_depth=3, # 3 2\n",
        "    learning_rate=0.1, # 0.1 0.05\n",
        "    subsample=0.8, # 0.8 0.7\n",
        "    colsample_bytree=0.5, # 0.5 0.3\n",
        "    reg_alpha=0.1, # 0.1 0.5\n",
        "    reg_lambda=1.0, # 1.0 1.5\n",
        "    gamma=0.1,\n",
        "    eval_metric='logloss',\n",
        "    random_state=42\n",
        ")\n",
        "\n",
        "xgb_model.fit(X_train_sm, y_train_sm)\n",
        "\n",
        "# EVALUATION 1\n",
        "evaluate_model(\"XGBoost Before Tuning\", xgb_model, X_train_sm, X_val, X_test, y_train_sm, y_val, y_test)\n",
        "\n",
        "# EVALUATION 2\n",
        "plot_model(\"XGBoost Before Tuning\", xgb_model)"
      ]
    },
    {
      "cell_type": "markdown",
      "metadata": {
        "id": "RSFuYh1IBxxM"
      },
      "source": [
        "# **DATA TUNING: XGBOOST**"
      ]
    },
    {
      "cell_type": "code",
      "execution_count": 28,
      "metadata": {
        "colab": {
          "base_uri": "https://localhost:8080/",
          "height": 642,
          "referenced_widgets": [
            "e2a13c76b21440cea079dd97f0e845ef",
            "11ecc9d0106d4df29a0637a18be27a21",
            "df779b79227641449652f93d7810b27e",
            "ebadf3f5618d440c86d2ca377b5dd7ce",
            "256bf5707eb4431da21967fa370e6bfc",
            "94cbb97fd2d14802959bb70446fdb82a",
            "c69f52510c5544a899e000cc8d6ae66e",
            "b404f785181e4186b3b31ea01a6a6af0",
            "7d1aa7cfb81f4908846f199f040cb680",
            "189a3e904410435fa796ed1938cf3052",
            "268c317043234492a4b84bc298d60663"
          ]
        },
        "id": "ZvrENPKuB2FK",
        "outputId": "d4a25283-8d5f-4ae9-ddb7-b61cf6fa3cc9"
      },
      "outputs": [
        {
          "name": "stderr",
          "output_type": "stream",
          "text": [
            "[I 2025-08-04 18:03:46,416] A new study created in memory with name: no-name-a8e1395f-4dfc-4e96-9356-076a9b057269\n",
            "Best trial: 0. Best value: 0.933508:   7%|▋         | 2/30 [00:00<00:04,  6.70it/s]"
          ]
        },
        {
          "name": "stdout",
          "output_type": "stream",
          "text": [
            "[I 2025-08-04 18:03:46,623] Trial 0 finished with value: 0.9335075361660227 and parameters: {'n_estimators': 186, 'max_depth': 6, 'learning_rate': 0.15271105990265602, 'subsample': 0.9038980797161407, 'colsample_bytree': 0.3164488140469089, 'reg_alpha': 0.7632664275660669, 'reg_lambda': 1.0403753768971697, 'gamma': 0.3049974791096625}. Best is trial 0 with value: 0.9335075361660227.\n",
            "[I 2025-08-04 18:03:46,732] Trial 1 finished with value: 0.9113610543058396 and parameters: {'n_estimators': 143, 'max_depth': 3, 'learning_rate': 0.020840087482129243, 'subsample': 0.6035314409666673, 'colsample_bytree': 0.901633649421256, 'reg_alpha': 0.05187367145488275, 'reg_lambda': 0.5019959115988302, 'gamma': 0.20801460386678056}. Best is trial 0 with value: 0.9335075361660227.\n"
          ]
        },
        {
          "name": "stderr",
          "output_type": "stream",
          "text": [
            "Best trial: 4. Best value: 0.945808:  17%|█▋        | 5/30 [00:00<00:02,  9.51it/s]"
          ]
        },
        {
          "name": "stdout",
          "output_type": "stream",
          "text": [
            "[I 2025-08-04 18:03:46,842] Trial 2 finished with value: 0.9372036658335228 and parameters: {'n_estimators': 245, 'max_depth': 7, 'learning_rate': 0.13173578051445886, 'subsample': 0.680312398168887, 'colsample_bytree': 0.6085744445741321, 'reg_alpha': 0.5507237049056009, 'reg_lambda': 1.5694242329408477, 'gamma': 0.08997327260451515}. Best is trial 2 with value: 0.9372036658335228.\n",
            "[I 2025-08-04 18:03:46,903] Trial 3 finished with value: 0.919965159433462 and parameters: {'n_estimators': 198, 'max_depth': 3, 'learning_rate': 0.016676542766760446, 'subsample': 0.9942077430032835, 'colsample_bytree': 0.6886167656324721, 'reg_alpha': 0.8883987044252756, 'reg_lambda': 0.8146938772477625, 'gamma': 0.06381807553387331}. Best is trial 2 with value: 0.9372036658335228.\n",
            "[I 2025-08-04 18:03:47,012] Trial 4 finished with value: 0.9458077709611452 and parameters: {'n_estimators': 295, 'max_depth': 5, 'learning_rate': 0.02639939810129599, 'subsample': 0.6836548537694676, 'colsample_bytree': 0.5850748011100722, 'reg_alpha': 0.4123157112545571, 'reg_lambda': 0.25218277971500624, 'gamma': 0.30112811767436404}. Best is trial 4 with value: 0.9458077709611452.\n"
          ]
        },
        {
          "name": "stderr",
          "output_type": "stream",
          "text": [
            "Best trial: 6. Best value: 0.954435:  23%|██▎       | 7/30 [00:00<00:02, 10.05it/s]"
          ]
        },
        {
          "name": "stdout",
          "output_type": "stream",
          "text": [
            "[I 2025-08-04 18:03:47,088] Trial 5 finished with value: 0.9236461410285541 and parameters: {'n_estimators': 160, 'max_depth': 9, 'learning_rate': 0.010185490654002574, 'subsample': 0.9500583831982088, 'colsample_bytree': 0.30214169725985157, 'reg_alpha': 0.962367668647809, 'reg_lambda': 1.3400469518322897, 'gamma': 0.06821767099918064}. Best is trial 4 with value: 0.9458077709611452.\n",
            "[I 2025-08-04 18:03:47,197] Trial 6 finished with value: 0.9544345981973794 and parameters: {'n_estimators': 298, 'max_depth': 8, 'learning_rate': 0.022786955071151457, 'subsample': 0.8571558586843107, 'colsample_bytree': 0.8260472436421789, 'reg_alpha': 0.06006814334846877, 'reg_lambda': 0.8183965644432492, 'gamma': 0.4142275012102598}. Best is trial 6 with value: 0.9544345981973794.\n",
            "[I 2025-08-04 18:03:47,259] Trial 7 finished with value: 0.9322653942285845 and parameters: {'n_estimators': 138, 'max_depth': 3, 'learning_rate': 0.15031873767285087, 'subsample': 0.6413568841080345, 'colsample_bytree': 0.9262530432712797, 'reg_alpha': 0.25594052125165523, 'reg_lambda': 0.49088410249707404, 'gamma': 0.3874558661059494}. Best is trial 6 with value: 0.9544345981973794.\n"
          ]
        },
        {
          "name": "stderr",
          "output_type": "stream",
          "text": [
            "Best trial: 6. Best value: 0.954435:  30%|███       | 9/30 [00:01<00:01, 11.73it/s]"
          ]
        },
        {
          "name": "stdout",
          "output_type": "stream",
          "text": [
            "[I 2025-08-04 18:03:47,321] Trial 8 finished with value: 0.8965462394910247 and parameters: {'n_estimators': 265, 'max_depth': 2, 'learning_rate': 0.011286689281940413, 'subsample': 0.8302864366169374, 'colsample_bytree': 0.3545979458022739, 'reg_alpha': 0.4212515998422094, 'reg_lambda': 0.7224909331430587, 'gamma': 0.31614015753133057}. Best is trial 6 with value: 0.9544345981973794.\n",
            "[I 2025-08-04 18:03:47,419] Trial 9 finished with value: 0.9372112398697265 and parameters: {'n_estimators': 249, 'max_depth': 9, 'learning_rate': 0.017496337213093256, 'subsample': 0.6240497849623763, 'colsample_bytree': 0.4825863746471083, 'reg_alpha': 0.7022022018442927, 'reg_lambda': 0.1599981071110399, 'gamma': 0.2997624725906533}. Best is trial 6 with value: 0.9544345981973794.\n"
          ]
        },
        {
          "name": "stderr",
          "output_type": "stream",
          "text": [
            "Best trial: 6. Best value: 0.954435:  37%|███▋      | 11/30 [00:01<00:01, 10.90it/s]"
          ]
        },
        {
          "name": "stdout",
          "output_type": "stream",
          "text": [
            "[I 2025-08-04 18:03:47,528] Trial 10 finished with value: 0.9482541846550028 and parameters: {'n_estimators': 298, 'max_depth': 10, 'learning_rate': 0.05182486932036971, 'subsample': 0.7878790528884213, 'colsample_bytree': 0.769689001947679, 'reg_alpha': 0.013310063545601297, 'reg_lambda': 1.7889194528050671, 'gamma': 0.4630297523404724}. Best is trial 6 with value: 0.9544345981973794.\n",
            "[I 2025-08-04 18:03:47,637] Trial 11 finished with value: 0.9470196167537681 and parameters: {'n_estimators': 292, 'max_depth': 10, 'learning_rate': 0.05664655735411508, 'subsample': 0.8012575353586959, 'colsample_bytree': 0.7753736178229858, 'reg_alpha': 0.043574979600681664, 'reg_lambda': 1.9718248390006299, 'gamma': 0.4721430731609562}. Best is trial 6 with value: 0.9544345981973794.\n"
          ]
        },
        {
          "name": "stderr",
          "output_type": "stream",
          "text": [
            "Best trial: 6. Best value: 0.954435:  50%|█████     | 15/30 [00:01<00:01, 11.16it/s]"
          ]
        },
        {
          "name": "stdout",
          "output_type": "stream",
          "text": [
            "[I 2025-08-04 18:03:47,715] Trial 12 finished with value: 0.9532000302961448 and parameters: {'n_estimators': 102, 'max_depth': 8, 'learning_rate': 0.049863124826589555, 'subsample': 0.861615337719208, 'colsample_bytree': 0.8251590013264511, 'reg_alpha': 0.22355663322344985, 'reg_lambda': 1.1838812892829407, 'gamma': 0.4971813980071291}. Best is trial 6 with value: 0.9544345981973794.\n",
            "[I 2025-08-04 18:03:47,792] Trial 13 finished with value: 0.9445883511323183 and parameters: {'n_estimators': 106, 'max_depth': 7, 'learning_rate': 0.034981548675339307, 'subsample': 0.871898837336999, 'colsample_bytree': 0.9829752383962846, 'reg_alpha': 0.21077162314772907, 'reg_lambda': 1.2190952980076646, 'gamma': 0.4969502244720036}. Best is trial 6 with value: 0.9544345981973794.\n",
            "[I 2025-08-04 18:03:47,884] Trial 14 finished with value: 0.9445732030599107 and parameters: {'n_estimators': 224, 'max_depth': 8, 'learning_rate': 0.09978174070976917, 'subsample': 0.7548670874697913, 'colsample_bytree': 0.8324042281432096, 'reg_alpha': 0.22133056129437167, 'reg_lambda': 1.0756304017341345, 'gamma': 0.38913056272599134}. Best is trial 6 with value: 0.9544345981973794.\n"
          ]
        },
        {
          "name": "stderr",
          "output_type": "stream",
          "text": [
            "Best trial: 6. Best value: 0.954435:  57%|█████▋    | 17/30 [00:01<00:01, 11.03it/s]"
          ]
        },
        {
          "name": "stdout",
          "output_type": "stream",
          "text": [
            "[I 2025-08-04 18:03:47,962] Trial 15 finished with value: 0.9470347648261758 and parameters: {'n_estimators': 104, 'max_depth': 5, 'learning_rate': 0.0753276809559111, 'subsample': 0.8740380611830332, 'colsample_bytree': 0.7067579901295151, 'reg_alpha': 0.1691378841005812, 'reg_lambda': 1.547566971445063, 'gamma': 0.4066734061430703}. Best is trial 6 with value: 0.9544345981973794.\n",
            "[I 2025-08-04 18:03:48,070] Trial 16 finished with value: 0.9482541846550028 and parameters: {'n_estimators': 220, 'max_depth': 8, 'learning_rate': 0.036734868893203015, 'subsample': 0.7389104407674735, 'colsample_bytree': 0.834702939842636, 'reg_alpha': 0.355647642929777, 'reg_lambda': 0.7054415595855852, 'gamma': 0.17792211008236186}. Best is trial 6 with value: 0.9544345981973794.\n"
          ]
        },
        {
          "name": "stderr",
          "output_type": "stream",
          "text": [
            "Best trial: 6. Best value: 0.954435:  63%|██████▎   | 19/30 [00:01<00:01, 10.96it/s]"
          ]
        },
        {
          "name": "stdout",
          "output_type": "stream",
          "text": [
            "[I 2025-08-04 18:03:48,162] Trial 17 finished with value: 0.9482693327274104 and parameters: {'n_estimators': 170, 'max_depth': 7, 'learning_rate': 0.03050704184812535, 'subsample': 0.9285026595639823, 'colsample_bytree': 0.9999552657370812, 'reg_alpha': 0.5685537202588734, 'reg_lambda': 1.3575527280265898, 'gamma': 0.42850251794567695}. Best is trial 6 with value: 0.9544345981973794.\n",
            "[I 2025-08-04 18:03:48,253] Trial 18 finished with value: 0.9495039006286451 and parameters: {'n_estimators': 122, 'max_depth': 8, 'learning_rate': 0.07269002172635278, 'subsample': 0.8524695727787905, 'colsample_bytree': 0.530371909257146, 'reg_alpha': 0.11500905233095018, 'reg_lambda': 0.976553250316968, 'gamma': 0.3583639210763345}. Best is trial 6 with value: 0.9544345981973794.\n"
          ]
        },
        {
          "name": "stderr",
          "output_type": "stream",
          "text": [
            "Best trial: 20. Best value: 0.955654:  70%|███████   | 21/30 [00:02<00:00, 10.42it/s]"
          ]
        },
        {
          "name": "stdout",
          "output_type": "stream",
          "text": [
            "[I 2025-08-04 18:03:48,360] Trial 19 finished with value: 0.9544421722335832 and parameters: {'n_estimators': 269, 'max_depth': 6, 'learning_rate': 0.0434846570171586, 'subsample': 0.9799674118887463, 'colsample_bytree': 0.858359246590727, 'reg_alpha': 0.3112468486296652, 'reg_lambda': 0.40814054575080794, 'gamma': 0.44529669047541365}. Best is trial 19 with value: 0.9544421722335832.\n",
            "[I 2025-08-04 18:03:48,469] Trial 20 finished with value: 0.9556540180262061 and parameters: {'n_estimators': 275, 'max_depth': 5, 'learning_rate': 0.025596636965753004, 'subsample': 0.9845274258316914, 'colsample_bytree': 0.8956038995147338, 'reg_alpha': 0.3231538328209407, 'reg_lambda': 0.01913323514598142, 'gamma': 0.25432514791286753}. Best is trial 20 with value: 0.9556540180262061.\n"
          ]
        },
        {
          "name": "stderr",
          "output_type": "stream",
          "text": [
            "Best trial: 20. Best value: 0.955654:  77%|███████▋  | 23/30 [00:02<00:00,  9.57it/s]"
          ]
        },
        {
          "name": "stdout",
          "output_type": "stream",
          "text": [
            "[I 2025-08-04 18:03:48,594] Trial 21 finished with value: 0.9544270241611755 and parameters: {'n_estimators': 272, 'max_depth': 5, 'learning_rate': 0.023675005951876733, 'subsample': 0.9950153310382263, 'colsample_bytree': 0.9296385169807393, 'reg_alpha': 0.32304647670851905, 'reg_lambda': 0.05879718589820065, 'gamma': 0.1384074943103297}. Best is trial 20 with value: 0.9556540180262061.\n",
            "[I 2025-08-04 18:03:48,716] Trial 22 finished with value: 0.9519578883587062 and parameters: {'n_estimators': 273, 'max_depth': 6, 'learning_rate': 0.01467259861313297, 'subsample': 0.950585305827559, 'colsample_bytree': 0.8795968954603794, 'reg_alpha': 0.44612454414718083, 'reg_lambda': 0.3869158551147698, 'gamma': 0.23389427764514778}. Best is trial 20 with value: 0.9556540180262061.\n"
          ]
        },
        {
          "name": "stderr",
          "output_type": "stream",
          "text": [
            "Best trial: 20. Best value: 0.955654:  83%|████████▎ | 25/30 [00:02<00:00,  9.48it/s]"
          ]
        },
        {
          "name": "stdout",
          "output_type": "stream",
          "text": [
            "[I 2025-08-04 18:03:48,824] Trial 23 finished with value: 0.9544043020525639 and parameters: {'n_estimators': 252, 'max_depth': 4, 'learning_rate': 0.03949647869757719, 'subsample': 0.9210655493424599, 'colsample_bytree': 0.758059245236402, 'reg_alpha': 0.290877244650708, 'reg_lambda': 0.04289115630676403, 'gamma': 0.35888912562137043}. Best is trial 20 with value: 0.9556540180262061.\n",
            "[I 2025-08-04 18:03:48,932] Trial 24 finished with value: 0.9544421722335834 and parameters: {'n_estimators': 228, 'max_depth': 6, 'learning_rate': 0.027982633546835375, 'subsample': 0.9667274069165612, 'colsample_bytree': 0.7247841294644719, 'reg_alpha': 0.11811137211206016, 'reg_lambda': 0.29518408719219313, 'gamma': 0.44674695384740265}. Best is trial 20 with value: 0.9556540180262061.\n"
          ]
        },
        {
          "name": "stderr",
          "output_type": "stream",
          "text": [
            "Best trial: 26. Best value: 0.958108:  90%|█████████ | 27/30 [00:02<00:00,  9.91it/s]"
          ]
        },
        {
          "name": "stdout",
          "output_type": "stream",
          "text": [
            "[I 2025-08-04 18:03:49,023] Trial 25 finished with value: 0.9544270241611755 and parameters: {'n_estimators': 220, 'max_depth': 4, 'learning_rate': 0.030477250130305826, 'subsample': 0.9576333834918678, 'colsample_bytree': 0.7052539164384518, 'reg_alpha': 0.12660970433934374, 'reg_lambda': 0.29042664885687347, 'gamma': 0.019844865882566565}. Best is trial 20 with value: 0.9556540180262061.\n",
            "[I 2025-08-04 18:03:49,117] Trial 26 finished with value: 0.9581080057562674 and parameters: {'n_estimators': 235, 'max_depth': 6, 'learning_rate': 0.06457518276069818, 'subsample': 0.998982353947451, 'colsample_bytree': 0.6445921629629068, 'reg_alpha': 0.3600117110056858, 'reg_lambda': 0.5356730359731774, 'gamma': 0.4451335207903719}. Best is trial 26 with value: 0.9581080057562674.\n"
          ]
        },
        {
          "name": "stderr",
          "output_type": "stream",
          "text": [
            "                                                                                     \r"
          ]
        },
        {
          "name": "stdout",
          "output_type": "stream",
          "text": [
            "[I 2025-08-04 18:03:49,210] Trial 27 finished with value: 0.9482693327274104 and parameters: {'n_estimators': 234, 'max_depth': 4, 'learning_rate': 0.0691490357890361, 'subsample': 0.9002728306773209, 'colsample_bytree': 0.6251217421561418, 'reg_alpha': 0.6281461729774014, 'reg_lambda': 0.6100315632134649, 'gamma': 0.27305788322290553}. Best is trial 26 with value: 0.9581080057562674.\n",
            "[I 2025-08-04 18:03:49,304] Trial 28 finished with value: 0.9470574869347876 and parameters: {'n_estimators': 193, 'max_depth': 5, 'learning_rate': 0.09376523510481422, 'subsample': 0.9701405391493186, 'colsample_bytree': 0.4353155351008708, 'reg_alpha': 0.5152622785131384, 'reg_lambda': 0.0005133355219060672, 'gamma': 0.3654866855882222}. Best is trial 26 with value: 0.9581080057562674.\n"
          ]
        },
        {
          "name": "stderr",
          "output_type": "stream",
          "text": [
            "Best trial: 26. Best value: 0.958108: 100%|██████████| 30/30 [00:02<00:00, 10.07it/s]"
          ]
        },
        {
          "name": "stdout",
          "output_type": "stream",
          "text": [
            "[I 2025-08-04 18:03:49,395] Trial 29 finished with value: 0.9507308944936756 and parameters: {'n_estimators': 214, 'max_depth': 6, 'learning_rate': 0.061460606334634675, 'subsample': 0.9051567842184663, 'colsample_bytree': 0.568270605408058, 'reg_alpha': 0.36327078144531594, 'reg_lambda': 0.1994067303193643, 'gamma': 0.3270560816981408}. Best is trial 26 with value: 0.9581080057562674.\n",
            "Best Parameters (XGBoost - Optuna): {'n_estimators': 235, 'max_depth': 6, 'learning_rate': 0.06457518276069818, 'subsample': 0.998982353947451, 'colsample_bytree': 0.6445921629629068, 'reg_alpha': 0.3600117110056858, 'reg_lambda': 0.5356730359731774, 'gamma': 0.4451335207903719}\n",
            "Best CV Score: 0.9581080057562674\n"
          ]
        },
        {
          "name": "stderr",
          "output_type": "stream",
          "text": [
            "\n"
          ]
        }
      ],
      "source": [
        "from xgboost import XGBClassifier\n",
        "from sklearn.model_selection import cross_val_score, StratifiedKFold\n",
        "\n",
        "def objective_xgb(trial):\n",
        "    params = {\n",
        "        'n_estimators': trial.suggest_int('n_estimators', 100, 300),\n",
        "        'max_depth': trial.suggest_int('max_depth', 2, 10),\n",
        "        'learning_rate': trial.suggest_float('learning_rate', 0.01, 0.2, log=True),\n",
        "        'subsample': trial.suggest_float('subsample', 0.6, 1.0),\n",
        "        'colsample_bytree': trial.suggest_float('colsample_bytree', 0.3, 1.0),\n",
        "        'reg_alpha': trial.suggest_float('reg_alpha', 0.0, 1.0),\n",
        "        'reg_lambda': trial.suggest_float('reg_lambda', 0.0, 2.0),\n",
        "        'gamma': trial.suggest_float('gamma', 0.0, 0.5),\n",
        "        'random_state': 42,\n",
        "        'eval_metric': 'logloss',\n",
        "        'use_label_encoder': False\n",
        "    }\n",
        "\n",
        "    model = XGBClassifier(**params)\n",
        "    cv = StratifiedKFold(n_splits=5, shuffle=True, random_state=42)\n",
        "    return cross_val_score(model, X_train_sm, y_train_sm, cv=cv, scoring='accuracy', n_jobs=-1).mean()\n",
        "\n",
        "study_xgb = optuna.create_study(direction=\"maximize\")\n",
        "study_xgb.optimize(objective_xgb, n_trials=30, show_progress_bar=True)\n",
        "\n",
        "print(\"Best Parameters (XGBoost - Optuna):\", study_xgb.best_trial.params)\n",
        "print(\"Best CV Score:\", study_xgb.best_trial.value)"
      ]
    },
    {
      "cell_type": "code",
      "execution_count": 29,
      "metadata": {
        "colab": {
          "base_uri": "https://localhost:8080/",
          "height": 1000
        },
        "id": "3YRNEtbjCIWg",
        "outputId": "2eda0953-12a6-4753-c7a3-999625c134d4"
      },
      "outputs": [
        {
          "name": "stderr",
          "output_type": "stream",
          "text": [
            "c:\\Users\\fance\\.conda\\envs\\heartastic\\lib\\site-packages\\xgboost\\training.py:183: UserWarning: [18:03:49] WARNING: C:\\actions-runner\\_work\\xgboost\\xgboost\\src\\learner.cc:738: \n",
            "Parameters: { \"use_label_encoder\" } are not used.\n",
            "\n",
            "  bst.update(dtrain, iteration=i, fobj=obj)\n",
            "c:\\Users\\fance\\.conda\\envs\\heartastic\\lib\\site-packages\\xgboost\\training.py:183: UserWarning: [18:03:49] WARNING: C:\\actions-runner\\_work\\xgboost\\xgboost\\src\\learner.cc:738: \n",
            "Parameters: { \"use_label_encoder\" } are not used.\n",
            "\n",
            "  bst.update(dtrain, iteration=i, fobj=obj)\n"
          ]
        },
        {
          "name": "stdout",
          "output_type": "stream",
          "text": [
            "\n",
            "=== Evaluation XGBoost After Optuna Tuning ===\n",
            "Train Accuracy: 0.9901477832512315\n",
            "Validation Accuracy: 0.945273631840796\n",
            "Test Accuracy: 0.898989898989899\n",
            "\n",
            "Classification Report (Test):\n",
            "               precision    recall  f1-score   support\n",
            "\n",
            "           0       0.88      0.88      0.88        42\n",
            "           1       0.91      0.91      0.91        57\n",
            "\n",
            "    accuracy                           0.90        99\n",
            "   macro avg       0.90      0.90      0.90        99\n",
            "weighted avg       0.90      0.90      0.90        99\n",
            "\n",
            "Confusion Matrix:\n",
            " [[37  5]\n",
            " [ 5 52]]\n"
          ]
        },
        {
          "name": "stderr",
          "output_type": "stream",
          "text": [
            "c:\\Users\\fance\\.conda\\envs\\heartastic\\lib\\site-packages\\xgboost\\training.py:183: UserWarning: [18:03:49] WARNING: C:\\actions-runner\\_work\\xgboost\\xgboost\\src\\learner.cc:738: \n",
            "Parameters: { \"use_label_encoder\" } are not used.\n",
            "\n",
            "  bst.update(dtrain, iteration=i, fobj=obj)\n",
            "c:\\Users\\fance\\.conda\\envs\\heartastic\\lib\\site-packages\\xgboost\\training.py:183: UserWarning: [18:03:49] WARNING: C:\\actions-runner\\_work\\xgboost\\xgboost\\src\\learner.cc:738: \n",
            "Parameters: { \"use_label_encoder\" } are not used.\n",
            "\n",
            "  bst.update(dtrain, iteration=i, fobj=obj)\n",
            "c:\\Users\\fance\\.conda\\envs\\heartastic\\lib\\site-packages\\xgboost\\training.py:183: UserWarning: [18:03:49] WARNING: C:\\actions-runner\\_work\\xgboost\\xgboost\\src\\learner.cc:738: \n",
            "Parameters: { \"use_label_encoder\" } are not used.\n",
            "\n",
            "  bst.update(dtrain, iteration=i, fobj=obj)\n",
            "c:\\Users\\fance\\.conda\\envs\\heartastic\\lib\\site-packages\\xgboost\\training.py:183: UserWarning: [18:03:49] WARNING: C:\\actions-runner\\_work\\xgboost\\xgboost\\src\\learner.cc:738: \n",
            "Parameters: { \"use_label_encoder\" } are not used.\n",
            "\n",
            "  bst.update(dtrain, iteration=i, fobj=obj)\n",
            "c:\\Users\\fance\\.conda\\envs\\heartastic\\lib\\site-packages\\xgboost\\training.py:183: UserWarning: [18:03:49] WARNING: C:\\actions-runner\\_work\\xgboost\\xgboost\\src\\learner.cc:738: \n",
            "Parameters: { \"use_label_encoder\" } are not used.\n",
            "\n",
            "  bst.update(dtrain, iteration=i, fobj=obj)\n",
            "c:\\Users\\fance\\.conda\\envs\\heartastic\\lib\\site-packages\\xgboost\\training.py:183: UserWarning: [18:03:50] WARNING: C:\\actions-runner\\_work\\xgboost\\xgboost\\src\\learner.cc:738: \n",
            "Parameters: { \"use_label_encoder\" } are not used.\n",
            "\n",
            "  bst.update(dtrain, iteration=i, fobj=obj)\n",
            "c:\\Users\\fance\\.conda\\envs\\heartastic\\lib\\site-packages\\xgboost\\training.py:183: UserWarning: [18:03:50] WARNING: C:\\actions-runner\\_work\\xgboost\\xgboost\\src\\learner.cc:738: \n",
            "Parameters: { \"use_label_encoder\" } are not used.\n",
            "\n",
            "  bst.update(dtrain, iteration=i, fobj=obj)\n",
            "c:\\Users\\fance\\.conda\\envs\\heartastic\\lib\\site-packages\\xgboost\\training.py:183: UserWarning: [18:03:50] WARNING: C:\\actions-runner\\_work\\xgboost\\xgboost\\src\\learner.cc:738: \n",
            "Parameters: { \"use_label_encoder\" } are not used.\n",
            "\n",
            "  bst.update(dtrain, iteration=i, fobj=obj)\n",
            "c:\\Users\\fance\\.conda\\envs\\heartastic\\lib\\site-packages\\xgboost\\training.py:183: UserWarning: [18:03:50] WARNING: C:\\actions-runner\\_work\\xgboost\\xgboost\\src\\learner.cc:738: \n",
            "Parameters: { \"use_label_encoder\" } are not used.\n",
            "\n",
            "  bst.update(dtrain, iteration=i, fobj=obj)\n",
            "c:\\Users\\fance\\.conda\\envs\\heartastic\\lib\\site-packages\\xgboost\\training.py:183: UserWarning: [18:03:50] WARNING: C:\\actions-runner\\_work\\xgboost\\xgboost\\src\\learner.cc:738: \n",
            "Parameters: { \"use_label_encoder\" } are not used.\n",
            "\n",
            "  bst.update(dtrain, iteration=i, fobj=obj)\n",
            "c:\\Users\\fance\\.conda\\envs\\heartastic\\lib\\site-packages\\xgboost\\training.py:183: UserWarning: [18:03:50] WARNING: C:\\actions-runner\\_work\\xgboost\\xgboost\\src\\learner.cc:738: \n",
            "Parameters: { \"use_label_encoder\" } are not used.\n",
            "\n",
            "  bst.update(dtrain, iteration=i, fobj=obj)\n",
            "c:\\Users\\fance\\.conda\\envs\\heartastic\\lib\\site-packages\\xgboost\\training.py:183: UserWarning: [18:03:50] WARNING: C:\\actions-runner\\_work\\xgboost\\xgboost\\src\\learner.cc:738: \n",
            "Parameters: { \"use_label_encoder\" } are not used.\n",
            "\n",
            "  bst.update(dtrain, iteration=i, fobj=obj)\n",
            "c:\\Users\\fance\\.conda\\envs\\heartastic\\lib\\site-packages\\xgboost\\training.py:183: UserWarning: [18:03:50] WARNING: C:\\actions-runner\\_work\\xgboost\\xgboost\\src\\learner.cc:738: \n",
            "Parameters: { \"use_label_encoder\" } are not used.\n",
            "\n",
            "  bst.update(dtrain, iteration=i, fobj=obj)\n",
            "c:\\Users\\fance\\.conda\\envs\\heartastic\\lib\\site-packages\\xgboost\\training.py:183: UserWarning: [18:03:50] WARNING: C:\\actions-runner\\_work\\xgboost\\xgboost\\src\\learner.cc:738: \n",
            "Parameters: { \"use_label_encoder\" } are not used.\n",
            "\n",
            "  bst.update(dtrain, iteration=i, fobj=obj)\n",
            "c:\\Users\\fance\\.conda\\envs\\heartastic\\lib\\site-packages\\xgboost\\training.py:183: UserWarning: [18:03:50] WARNING: C:\\actions-runner\\_work\\xgboost\\xgboost\\src\\learner.cc:738: \n",
            "Parameters: { \"use_label_encoder\" } are not used.\n",
            "\n",
            "  bst.update(dtrain, iteration=i, fobj=obj)\n",
            "c:\\Users\\fance\\.conda\\envs\\heartastic\\lib\\site-packages\\xgboost\\training.py:183: UserWarning: [18:03:50] WARNING: C:\\actions-runner\\_work\\xgboost\\xgboost\\src\\learner.cc:738: \n",
            "Parameters: { \"use_label_encoder\" } are not used.\n",
            "\n",
            "  bst.update(dtrain, iteration=i, fobj=obj)\n",
            "c:\\Users\\fance\\.conda\\envs\\heartastic\\lib\\site-packages\\xgboost\\training.py:183: UserWarning: [18:03:50] WARNING: C:\\actions-runner\\_work\\xgboost\\xgboost\\src\\learner.cc:738: \n",
            "Parameters: { \"use_label_encoder\" } are not used.\n",
            "\n",
            "  bst.update(dtrain, iteration=i, fobj=obj)\n",
            "c:\\Users\\fance\\.conda\\envs\\heartastic\\lib\\site-packages\\xgboost\\training.py:183: UserWarning: [18:03:50] WARNING: C:\\actions-runner\\_work\\xgboost\\xgboost\\src\\learner.cc:738: \n",
            "Parameters: { \"use_label_encoder\" } are not used.\n",
            "\n",
            "  bst.update(dtrain, iteration=i, fobj=obj)\n",
            "c:\\Users\\fance\\.conda\\envs\\heartastic\\lib\\site-packages\\xgboost\\training.py:183: UserWarning: [18:03:50] WARNING: C:\\actions-runner\\_work\\xgboost\\xgboost\\src\\learner.cc:738: \n",
            "Parameters: { \"use_label_encoder\" } are not used.\n",
            "\n",
            "  bst.update(dtrain, iteration=i, fobj=obj)\n",
            "c:\\Users\\fance\\.conda\\envs\\heartastic\\lib\\site-packages\\xgboost\\training.py:183: UserWarning: [18:03:51] WARNING: C:\\actions-runner\\_work\\xgboost\\xgboost\\src\\learner.cc:738: \n",
            "Parameters: { \"use_label_encoder\" } are not used.\n",
            "\n",
            "  bst.update(dtrain, iteration=i, fobj=obj)\n",
            "c:\\Users\\fance\\.conda\\envs\\heartastic\\lib\\site-packages\\xgboost\\training.py:183: UserWarning: [18:03:51] WARNING: C:\\actions-runner\\_work\\xgboost\\xgboost\\src\\learner.cc:738: \n",
            "Parameters: { \"use_label_encoder\" } are not used.\n",
            "\n",
            "  bst.update(dtrain, iteration=i, fobj=obj)\n",
            "c:\\Users\\fance\\.conda\\envs\\heartastic\\lib\\site-packages\\xgboost\\training.py:183: UserWarning: [18:03:51] WARNING: C:\\actions-runner\\_work\\xgboost\\xgboost\\src\\learner.cc:738: \n",
            "Parameters: { \"use_label_encoder\" } are not used.\n",
            "\n",
            "  bst.update(dtrain, iteration=i, fobj=obj)\n",
            "c:\\Users\\fance\\.conda\\envs\\heartastic\\lib\\site-packages\\xgboost\\training.py:183: UserWarning: [18:03:51] WARNING: C:\\actions-runner\\_work\\xgboost\\xgboost\\src\\learner.cc:738: \n",
            "Parameters: { \"use_label_encoder\" } are not used.\n",
            "\n",
            "  bst.update(dtrain, iteration=i, fobj=obj)\n",
            "c:\\Users\\fance\\.conda\\envs\\heartastic\\lib\\site-packages\\xgboost\\training.py:183: UserWarning: [18:03:51] WARNING: C:\\actions-runner\\_work\\xgboost\\xgboost\\src\\learner.cc:738: \n",
            "Parameters: { \"use_label_encoder\" } are not used.\n",
            "\n",
            "  bst.update(dtrain, iteration=i, fobj=obj)\n",
            "c:\\Users\\fance\\.conda\\envs\\heartastic\\lib\\site-packages\\xgboost\\training.py:183: UserWarning: [18:03:51] WARNING: C:\\actions-runner\\_work\\xgboost\\xgboost\\src\\learner.cc:738: \n",
            "Parameters: { \"use_label_encoder\" } are not used.\n",
            "\n",
            "  bst.update(dtrain, iteration=i, fobj=obj)\n",
            "c:\\Users\\fance\\.conda\\envs\\heartastic\\lib\\site-packages\\xgboost\\training.py:183: UserWarning: [18:03:51] WARNING: C:\\actions-runner\\_work\\xgboost\\xgboost\\src\\learner.cc:738: \n",
            "Parameters: { \"use_label_encoder\" } are not used.\n",
            "\n",
            "  bst.update(dtrain, iteration=i, fobj=obj)\n",
            "c:\\Users\\fance\\.conda\\envs\\heartastic\\lib\\site-packages\\xgboost\\training.py:183: UserWarning: [18:03:51] WARNING: C:\\actions-runner\\_work\\xgboost\\xgboost\\src\\learner.cc:738: \n",
            "Parameters: { \"use_label_encoder\" } are not used.\n",
            "\n",
            "  bst.update(dtrain, iteration=i, fobj=obj)\n",
            "c:\\Users\\fance\\.conda\\envs\\heartastic\\lib\\site-packages\\xgboost\\training.py:183: UserWarning: [18:03:51] WARNING: C:\\actions-runner\\_work\\xgboost\\xgboost\\src\\learner.cc:738: \n",
            "Parameters: { \"use_label_encoder\" } are not used.\n",
            "\n",
            "  bst.update(dtrain, iteration=i, fobj=obj)\n",
            "c:\\Users\\fance\\.conda\\envs\\heartastic\\lib\\site-packages\\xgboost\\training.py:183: UserWarning: [18:03:51] WARNING: C:\\actions-runner\\_work\\xgboost\\xgboost\\src\\learner.cc:738: \n",
            "Parameters: { \"use_label_encoder\" } are not used.\n",
            "\n",
            "  bst.update(dtrain, iteration=i, fobj=obj)\n",
            "c:\\Users\\fance\\.conda\\envs\\heartastic\\lib\\site-packages\\xgboost\\training.py:183: UserWarning: [18:03:51] WARNING: C:\\actions-runner\\_work\\xgboost\\xgboost\\src\\learner.cc:738: \n",
            "Parameters: { \"use_label_encoder\" } are not used.\n",
            "\n",
            "  bst.update(dtrain, iteration=i, fobj=obj)\n",
            "c:\\Users\\fance\\.conda\\envs\\heartastic\\lib\\site-packages\\xgboost\\training.py:183: UserWarning: [18:03:51] WARNING: C:\\actions-runner\\_work\\xgboost\\xgboost\\src\\learner.cc:738: \n",
            "Parameters: { \"use_label_encoder\" } are not used.\n",
            "\n",
            "  bst.update(dtrain, iteration=i, fobj=obj)\n",
            "c:\\Users\\fance\\.conda\\envs\\heartastic\\lib\\site-packages\\xgboost\\training.py:183: UserWarning: [18:03:51] WARNING: C:\\actions-runner\\_work\\xgboost\\xgboost\\src\\learner.cc:738: \n",
            "Parameters: { \"use_label_encoder\" } are not used.\n",
            "\n",
            "  bst.update(dtrain, iteration=i, fobj=obj)\n",
            "c:\\Users\\fance\\.conda\\envs\\heartastic\\lib\\site-packages\\xgboost\\training.py:183: UserWarning: [18:03:52] WARNING: C:\\actions-runner\\_work\\xgboost\\xgboost\\src\\learner.cc:738: \n",
            "Parameters: { \"use_label_encoder\" } are not used.\n",
            "\n",
            "  bst.update(dtrain, iteration=i, fobj=obj)\n",
            "c:\\Users\\fance\\.conda\\envs\\heartastic\\lib\\site-packages\\xgboost\\training.py:183: UserWarning: [18:03:52] WARNING: C:\\actions-runner\\_work\\xgboost\\xgboost\\src\\learner.cc:738: \n",
            "Parameters: { \"use_label_encoder\" } are not used.\n",
            "\n",
            "  bst.update(dtrain, iteration=i, fobj=obj)\n",
            "c:\\Users\\fance\\.conda\\envs\\heartastic\\lib\\site-packages\\xgboost\\training.py:183: UserWarning: [18:03:52] WARNING: C:\\actions-runner\\_work\\xgboost\\xgboost\\src\\learner.cc:738: \n",
            "Parameters: { \"use_label_encoder\" } are not used.\n",
            "\n",
            "  bst.update(dtrain, iteration=i, fobj=obj)\n",
            "c:\\Users\\fance\\.conda\\envs\\heartastic\\lib\\site-packages\\xgboost\\training.py:183: UserWarning: [18:03:52] WARNING: C:\\actions-runner\\_work\\xgboost\\xgboost\\src\\learner.cc:738: \n",
            "Parameters: { \"use_label_encoder\" } are not used.\n",
            "\n",
            "  bst.update(dtrain, iteration=i, fobj=obj)\n",
            "c:\\Users\\fance\\.conda\\envs\\heartastic\\lib\\site-packages\\xgboost\\training.py:183: UserWarning: [18:03:52] WARNING: C:\\actions-runner\\_work\\xgboost\\xgboost\\src\\learner.cc:738: \n",
            "Parameters: { \"use_label_encoder\" } are not used.\n",
            "\n",
            "  bst.update(dtrain, iteration=i, fobj=obj)\n",
            "c:\\Users\\fance\\.conda\\envs\\heartastic\\lib\\site-packages\\xgboost\\training.py:183: UserWarning: [18:03:52] WARNING: C:\\actions-runner\\_work\\xgboost\\xgboost\\src\\learner.cc:738: \n",
            "Parameters: { \"use_label_encoder\" } are not used.\n",
            "\n",
            "  bst.update(dtrain, iteration=i, fobj=obj)\n",
            "c:\\Users\\fance\\.conda\\envs\\heartastic\\lib\\site-packages\\xgboost\\training.py:183: UserWarning: [18:03:52] WARNING: C:\\actions-runner\\_work\\xgboost\\xgboost\\src\\learner.cc:738: \n",
            "Parameters: { \"use_label_encoder\" } are not used.\n",
            "\n",
            "  bst.update(dtrain, iteration=i, fobj=obj)\n",
            "c:\\Users\\fance\\.conda\\envs\\heartastic\\lib\\site-packages\\xgboost\\training.py:183: UserWarning: [18:03:52] WARNING: C:\\actions-runner\\_work\\xgboost\\xgboost\\src\\learner.cc:738: \n",
            "Parameters: { \"use_label_encoder\" } are not used.\n",
            "\n",
            "  bst.update(dtrain, iteration=i, fobj=obj)\n",
            "c:\\Users\\fance\\.conda\\envs\\heartastic\\lib\\site-packages\\xgboost\\training.py:183: UserWarning: [18:03:52] WARNING: C:\\actions-runner\\_work\\xgboost\\xgboost\\src\\learner.cc:738: \n",
            "Parameters: { \"use_label_encoder\" } are not used.\n",
            "\n",
            "  bst.update(dtrain, iteration=i, fobj=obj)\n",
            "c:\\Users\\fance\\.conda\\envs\\heartastic\\lib\\site-packages\\xgboost\\training.py:183: UserWarning: [18:03:52] WARNING: C:\\actions-runner\\_work\\xgboost\\xgboost\\src\\learner.cc:738: \n",
            "Parameters: { \"use_label_encoder\" } are not used.\n",
            "\n",
            "  bst.update(dtrain, iteration=i, fobj=obj)\n",
            "c:\\Users\\fance\\.conda\\envs\\heartastic\\lib\\site-packages\\xgboost\\training.py:183: UserWarning: [18:03:52] WARNING: C:\\actions-runner\\_work\\xgboost\\xgboost\\src\\learner.cc:738: \n",
            "Parameters: { \"use_label_encoder\" } are not used.\n",
            "\n",
            "  bst.update(dtrain, iteration=i, fobj=obj)\n",
            "c:\\Users\\fance\\.conda\\envs\\heartastic\\lib\\site-packages\\xgboost\\training.py:183: UserWarning: [18:03:52] WARNING: C:\\actions-runner\\_work\\xgboost\\xgboost\\src\\learner.cc:738: \n",
            "Parameters: { \"use_label_encoder\" } are not used.\n",
            "\n",
            "  bst.update(dtrain, iteration=i, fobj=obj)\n",
            "c:\\Users\\fance\\.conda\\envs\\heartastic\\lib\\site-packages\\xgboost\\training.py:183: UserWarning: [18:03:52] WARNING: C:\\actions-runner\\_work\\xgboost\\xgboost\\src\\learner.cc:738: \n",
            "Parameters: { \"use_label_encoder\" } are not used.\n",
            "\n",
            "  bst.update(dtrain, iteration=i, fobj=obj)\n",
            "c:\\Users\\fance\\.conda\\envs\\heartastic\\lib\\site-packages\\xgboost\\training.py:183: UserWarning: [18:03:53] WARNING: C:\\actions-runner\\_work\\xgboost\\xgboost\\src\\learner.cc:738: \n",
            "Parameters: { \"use_label_encoder\" } are not used.\n",
            "\n",
            "  bst.update(dtrain, iteration=i, fobj=obj)\n",
            "c:\\Users\\fance\\.conda\\envs\\heartastic\\lib\\site-packages\\xgboost\\training.py:183: UserWarning: [18:03:53] WARNING: C:\\actions-runner\\_work\\xgboost\\xgboost\\src\\learner.cc:738: \n",
            "Parameters: { \"use_label_encoder\" } are not used.\n",
            "\n",
            "  bst.update(dtrain, iteration=i, fobj=obj)\n",
            "c:\\Users\\fance\\.conda\\envs\\heartastic\\lib\\site-packages\\xgboost\\training.py:183: UserWarning: [18:03:53] WARNING: C:\\actions-runner\\_work\\xgboost\\xgboost\\src\\learner.cc:738: \n",
            "Parameters: { \"use_label_encoder\" } are not used.\n",
            "\n",
            "  bst.update(dtrain, iteration=i, fobj=obj)\n",
            "c:\\Users\\fance\\.conda\\envs\\heartastic\\lib\\site-packages\\xgboost\\training.py:183: UserWarning: [18:03:53] WARNING: C:\\actions-runner\\_work\\xgboost\\xgboost\\src\\learner.cc:738: \n",
            "Parameters: { \"use_label_encoder\" } are not used.\n",
            "\n",
            "  bst.update(dtrain, iteration=i, fobj=obj)\n"
          ]
        },
        {
          "data": {
            "image/png": "[encoded data removed]",
            "text/plain": [
              "<Figure size 640x480 with 1 Axes>"
            ]
          },
          "metadata": {},
          "output_type": "display_data"
        }
      ],
      "source": [
        "best_params_xgb = study_xgb.best_trial.params\n",
        "best_params_xgb['random_state'] = 42\n",
        "best_params_xgb['eval_metric'] = 'logloss'\n",
        "best_params_xgb['use_label_encoder'] = False\n",
        "\n",
        "best_xgb_model = XGBClassifier(**best_params_xgb)\n",
        "best_xgb_model.fit(X_train_sm, y_train_sm)\n",
        "\n",
        "# Evaluation\n",
        "evaluate_model(\"XGBoost After Optuna Tuning\", best_xgb_model, X_train_sm, X_val, X_test, y_train_sm, y_val, y_test)\n",
        "plot_model(\"XGBoost After Optuna Tuning\", best_xgb_model)"
      ]
    },
    {
      "cell_type": "markdown",
      "metadata": {
        "id": "93XRAsyIlvZh"
      },
      "source": [
        "# **E. DEPLOYMENT**"
      ]
    },
    {
      "cell_type": "code",
      "execution_count": 30,
      "metadata": {
        "colab": {
          "base_uri": "https://localhost:8080/"
        },
        "id": "_-FOgOA6lyvS",
        "outputId": "2cf721df-d1f1-48aa-ccd8-af03643a1fe6"
      },
      "outputs": [
        {
          "data": {
            "text/plain": [
              "['xgb_heart_model.pkl']"
            ]
          },
          "execution_count": 30,
          "metadata": {},
          "output_type": "execute_result"
        }
      ],
      "source": [
        "# SAVE TO FILE\n",
        "import joblib\n",
        "\n",
        "joblib.dump(best_xgb_model, \"xgb_heart_model.pkl\")\n",
        "\n",
        "# from google.colab import files\n",
        "# files.download(\"xgb_heart_model.pkl\")"
      ]
    }
  ],
  "metadata": {
    "colab": {
      "provenance": []
    },
    "kernelspec": {
      "display_name": "Python 3",
      "name": "python3"
    },
    "language_info": {
      "name": "python"
    },
    "widgets": {
      "application/vnd.jupyter.widget-state+json": {
        "09ed17a8aa68478388b62cb1dc93afeb": {
          "model_module": "@jupyter-widgets/controls",
          "model_module_version": "1.5.0",
          "model_name": "DescriptionStyleModel",
          "state": {
            "_model_module": "@jupyter-widgets/controls",
            "_model_module_version": "1.5.0",
            "_model_name": "DescriptionStyleModel",
            "_view_count": null,
            "_view_module": "@jupyter-widgets/base",
            "_view_module_version": "1.2.0",
            "_view_name": "StyleView",
            "description_width": ""
          }
        },
        "0b662972e48046f6b855f9dd95a8c4de": {
          "model_module": "@jupyter-widgets/controls",
          "model_module_version": "1.5.0",
          "model_name": "ProgressStyleModel",
          "state": {
            "_model_module": "@jupyter-widgets/controls",
            "_model_module_version": "1.5.0",
            "_model_name": "ProgressStyleModel",
            "_view_count": null,
            "_view_module": "@jupyter-widgets/base",
            "_view_module_version": "1.2.0",
            "_view_name": "StyleView",
            "bar_color": null,
            "description_width": ""
          }
        },
        "10d71787054e49ee917536a25de772e6": {
          "model_module": "@jupyter-widgets/base",
          "model_module_version": "1.2.0",
          "model_name": "LayoutModel",
          "state": {
            "_model_module": "@jupyter-widgets/base",
            "_model_module_version": "1.2.0",
            "_model_name": "LayoutModel",
            "_view_count": null,
            "_view_module": "@jupyter-widgets/base",
            "_view_module_version": "1.2.0",
            "_view_name": "LayoutView",
            "align_content": null,
            "align_items": null,
            "align_self": null,
            "border": null,
            "bottom": null,
            "display": null,
            "flex": null,
            "flex_flow": null,
            "grid_area": null,
            "grid_auto_columns": null,
            "grid_auto_flow": null,
            "grid_auto_rows": null,
            "grid_column": null,
            "grid_gap": null,
            "grid_row": null,
            "grid_template_areas": null,
            "grid_template_columns": null,
            "grid_template_rows": null,
            "height": null,
            "justify_content": null,
            "justify_items": null,
            "left": null,
            "margin": null,
            "max_height": null,
            "max_width": null,
            "min_height": null,
            "min_width": null,
            "object_fit": null,
            "object_position": null,
            "order": null,
            "overflow": null,
            "overflow_x": null,
            "overflow_y": null,
            "padding": null,
            "right": null,
            "top": null,
            "visibility": null,
            "width": null
          }
        },
        "11ecc9d0106d4df29a0637a18be27a21": {
          "model_module": "@jupyter-widgets/controls",
          "model_module_version": "1.5.0",
          "model_name": "HTMLModel",
          "state": {
            "_dom_classes": [],
            "_model_module": "@jupyter-widgets/controls",
            "_model_module_version": "1.5.0",
            "_model_name": "HTMLModel",
            "_view_count": null,
            "_view_module": "@jupyter-widgets/controls",
            "_view_module_version": "1.5.0",
            "_view_name": "HTMLView",
            "description": "",
            "description_tooltip": null,
            "layout": "IPY_MODEL_94cbb97fd2d14802959bb70446fdb82a",
            "placeholder": "​",
            "style": "IPY_MODEL_c69f52510c5544a899e000cc8d6ae66e",
            "value": "Best trial: 17. Best value: 0.9532: 100%"
          }
        },
        "189a3e904410435fa796ed1938cf3052": {
          "model_module": "@jupyter-widgets/base",
          "model_module_version": "1.2.0",
          "model_name": "LayoutModel",
          "state": {
            "_model_module": "@jupyter-widgets/base",
            "_model_module_version": "1.2.0",
            "_model_name": "LayoutModel",
            "_view_count": null,
            "_view_module": "@jupyter-widgets/base",
            "_view_module_version": "1.2.0",
            "_view_name": "LayoutView",
            "align_content": null,
            "align_items": null,
            "align_self": null,
            "border": null,
            "bottom": null,
            "display": null,
            "flex": null,
            "flex_flow": null,
            "grid_area": null,
            "grid_auto_columns": null,
            "grid_auto_flow": null,
            "grid_auto_rows": null,
            "grid_column": null,
            "grid_gap": null,
            "grid_row": null,
            "grid_template_areas": null,
            "grid_template_columns": null,
            "grid_template_rows": null,
            "height": null,
            "justify_content": null,
            "justify_items": null,
            "left": null,
            "margin": null,
            "max_height": null,
            "max_width": null,
            "min_height": null,
            "min_width": null,
            "object_fit": null,
            "object_position": null,
            "order": null,
            "overflow": null,
            "overflow_x": null,
            "overflow_y": null,
            "padding": null,
            "right": null,
            "top": null,
            "visibility": null,
            "width": null
          }
        },
        "202c3b79ea7d49709d47a0f2ab085d6b": {
          "model_module": "@jupyter-widgets/controls",
          "model_module_version": "1.5.0",
          "model_name": "HTMLModel",
          "state": {
            "_dom_classes": [],
            "_model_module": "@jupyter-widgets/controls",
            "_model_module_version": "1.5.0",
            "_model_name": "HTMLModel",
            "_view_count": null,
            "_view_module": "@jupyter-widgets/controls",
            "_view_module_version": "1.5.0",
            "_view_name": "HTMLView",
            "description": "",
            "description_tooltip": null,
            "layout": "IPY_MODEL_49bf02e70bbe477d8814c2dcd901824b",
            "placeholder": "​",
            "style": "IPY_MODEL_09ed17a8aa68478388b62cb1dc93afeb",
            "value": "Best trial: 23. Best value: 0.949519: 100%"
          }
        },
        "256bf5707eb4431da21967fa370e6bfc": {
          "model_module": "@jupyter-widgets/base",
          "model_module_version": "1.2.0",
          "model_name": "LayoutModel",
          "state": {
            "_model_module": "@jupyter-widgets/base",
            "_model_module_version": "1.2.0",
            "_model_name": "LayoutModel",
            "_view_count": null,
            "_view_module": "@jupyter-widgets/base",
            "_view_module_version": "1.2.0",
            "_view_name": "LayoutView",
            "align_content": null,
            "align_items": null,
            "align_self": null,
            "border": null,
            "bottom": null,
            "display": null,
            "flex": null,
            "flex_flow": null,
            "grid_area": null,
            "grid_auto_columns": null,
            "grid_auto_flow": null,
            "grid_auto_rows": null,
            "grid_column": null,
            "grid_gap": null,
            "grid_row": null,
            "grid_template_areas": null,
            "grid_template_columns": null,
            "grid_template_rows": null,
            "height": null,
            "justify_content": null,
            "justify_items": null,
            "left": null,
            "margin": null,
            "max_height": null,
            "max_width": null,
            "min_height": null,
            "min_width": null,
            "object_fit": null,
            "object_position": null,
            "order": null,
            "overflow": null,
            "overflow_x": null,
            "overflow_y": null,
            "padding": null,
            "right": null,
            "top": null,
            "visibility": null,
            "width": null
          }
        },
        "268c317043234492a4b84bc298d60663": {
          "model_module": "@jupyter-widgets/controls",
          "model_module_version": "1.5.0",
          "model_name": "DescriptionStyleModel",
          "state": {
            "_model_module": "@jupyter-widgets/controls",
            "_model_module_version": "1.5.0",
            "_model_name": "DescriptionStyleModel",
            "_view_count": null,
            "_view_module": "@jupyter-widgets/base",
            "_view_module_version": "1.2.0",
            "_view_name": "StyleView",
            "description_width": ""
          }
        },
        "49bf02e70bbe477d8814c2dcd901824b": {
          "model_module": "@jupyter-widgets/base",
          "model_module_version": "1.2.0",
          "model_name": "LayoutModel",
          "state": {
            "_model_module": "@jupyter-widgets/base",
            "_model_module_version": "1.2.0",
            "_model_name": "LayoutModel",
            "_view_count": null,
            "_view_module": "@jupyter-widgets/base",
            "_view_module_version": "1.2.0",
            "_view_name": "LayoutView",
            "align_content": null,
            "align_items": null,
            "align_self": null,
            "border": null,
            "bottom": null,
            "display": null,
            "flex": null,
            "flex_flow": null,
            "grid_area": null,
            "grid_auto_columns": null,
            "grid_auto_flow": null,
            "grid_auto_rows": null,
            "grid_column": null,
            "grid_gap": null,
            "grid_row": null,
            "grid_template_areas": null,
            "grid_template_columns": null,
            "grid_template_rows": null,
            "height": null,
            "justify_content": null,
            "justify_items": null,
            "left": null,
            "margin": null,
            "max_height": null,
            "max_width": null,
            "min_height": null,
            "min_width": null,
            "object_fit": null,
            "object_position": null,
            "order": null,
            "overflow": null,
            "overflow_x": null,
            "overflow_y": null,
            "padding": null,
            "right": null,
            "top": null,
            "visibility": null,
            "width": null
          }
        },
        "7d1aa7cfb81f4908846f199f040cb680": {
          "model_module": "@jupyter-widgets/controls",
          "model_module_version": "1.5.0",
          "model_name": "ProgressStyleModel",
          "state": {
            "_model_module": "@jupyter-widgets/controls",
            "_model_module_version": "1.5.0",
            "_model_name": "ProgressStyleModel",
            "_view_count": null,
            "_view_module": "@jupyter-widgets/base",
            "_view_module_version": "1.2.0",
            "_view_name": "StyleView",
            "bar_color": null,
            "description_width": ""
          }
        },
        "93095169becb4e5bb66745a5df378c37": {
          "model_module": "@jupyter-widgets/base",
          "model_module_version": "1.2.0",
          "model_name": "LayoutModel",
          "state": {
            "_model_module": "@jupyter-widgets/base",
            "_model_module_version": "1.2.0",
            "_model_name": "LayoutModel",
            "_view_count": null,
            "_view_module": "@jupyter-widgets/base",
            "_view_module_version": "1.2.0",
            "_view_name": "LayoutView",
            "align_content": null,
            "align_items": null,
            "align_self": null,
            "border": null,
            "bottom": null,
            "display": null,
            "flex": null,
            "flex_flow": null,
            "grid_area": null,
            "grid_auto_columns": null,
            "grid_auto_flow": null,
            "grid_auto_rows": null,
            "grid_column": null,
            "grid_gap": null,
            "grid_row": null,
            "grid_template_areas": null,
            "grid_template_columns": null,
            "grid_template_rows": null,
            "height": null,
            "justify_content": null,
            "justify_items": null,
            "left": null,
            "margin": null,
            "max_height": null,
            "max_width": null,
            "min_height": null,
            "min_width": null,
            "object_fit": null,
            "object_position": null,
            "order": null,
            "overflow": null,
            "overflow_x": null,
            "overflow_y": null,
            "padding": null,
            "right": null,
            "top": null,
            "visibility": null,
            "width": null
          }
        },
        "94cbb97fd2d14802959bb70446fdb82a": {
          "model_module": "@jupyter-widgets/base",
          "model_module_version": "1.2.0",
          "model_name": "LayoutModel",
          "state": {
            "_model_module": "@jupyter-widgets/base",
            "_model_module_version": "1.2.0",
            "_model_name": "LayoutModel",
            "_view_count": null,
            "_view_module": "@jupyter-widgets/base",
            "_view_module_version": "1.2.0",
            "_view_name": "LayoutView",
            "align_content": null,
            "align_items": null,
            "align_self": null,
            "border": null,
            "bottom": null,
            "display": null,
            "flex": null,
            "flex_flow": null,
            "grid_area": null,
            "grid_auto_columns": null,
            "grid_auto_flow": null,
            "grid_auto_rows": null,
            "grid_column": null,
            "grid_gap": null,
            "grid_row": null,
            "grid_template_areas": null,
            "grid_template_columns": null,
            "grid_template_rows": null,
            "height": null,
            "justify_content": null,
            "justify_items": null,
            "left": null,
            "margin": null,
            "max_height": null,
            "max_width": null,
            "min_height": null,
            "min_width": null,
            "object_fit": null,
            "object_position": null,
            "order": null,
            "overflow": null,
            "overflow_x": null,
            "overflow_y": null,
            "padding": null,
            "right": null,
            "top": null,
            "visibility": null,
            "width": null
          }
        },
        "9e1513a6229a41f9bf8860bf8cb6ecca": {
          "model_module": "@jupyter-widgets/controls",
          "model_module_version": "1.5.0",
          "model_name": "FloatProgressModel",
          "state": {
            "_dom_classes": [],
            "_model_module": "@jupyter-widgets/controls",
            "_model_module_version": "1.5.0",
            "_model_name": "FloatProgressModel",
            "_view_count": null,
            "_view_module": "@jupyter-widgets/controls",
            "_view_module_version": "1.5.0",
            "_view_name": "ProgressView",
            "bar_style": "success",
            "description": "",
            "description_tooltip": null,
            "layout": "IPY_MODEL_e12fbc17b1a849cd8b75d4e6f6fd3911",
            "max": 30,
            "min": 0,
            "orientation": "horizontal",
            "style": "IPY_MODEL_0b662972e48046f6b855f9dd95a8c4de",
            "value": 30
          }
        },
        "a390e2c406de450797e2cfbee67fe3b1": {
          "model_module": "@jupyter-widgets/controls",
          "model_module_version": "1.5.0",
          "model_name": "HBoxModel",
          "state": {
            "_dom_classes": [],
            "_model_module": "@jupyter-widgets/controls",
            "_model_module_version": "1.5.0",
            "_model_name": "HBoxModel",
            "_view_count": null,
            "_view_module": "@jupyter-widgets/controls",
            "_view_module_version": "1.5.0",
            "_view_name": "HBoxView",
            "box_style": "",
            "children": [
              "IPY_MODEL_202c3b79ea7d49709d47a0f2ab085d6b",
              "IPY_MODEL_9e1513a6229a41f9bf8860bf8cb6ecca",
              "IPY_MODEL_c82c2893371a4ecc93f2d09ee07ea5f4"
            ],
            "layout": "IPY_MODEL_10d71787054e49ee917536a25de772e6"
          }
        },
        "b404f785181e4186b3b31ea01a6a6af0": {
          "model_module": "@jupyter-widgets/base",
          "model_module_version": "1.2.0",
          "model_name": "LayoutModel",
          "state": {
            "_model_module": "@jupyter-widgets/base",
            "_model_module_version": "1.2.0",
            "_model_name": "LayoutModel",
            "_view_count": null,
            "_view_module": "@jupyter-widgets/base",
            "_view_module_version": "1.2.0",
            "_view_name": "LayoutView",
            "align_content": null,
            "align_items": null,
            "align_self": null,
            "border": null,
            "bottom": null,
            "display": null,
            "flex": null,
            "flex_flow": null,
            "grid_area": null,
            "grid_auto_columns": null,
            "grid_auto_flow": null,
            "grid_auto_rows": null,
            "grid_column": null,
            "grid_gap": null,
            "grid_row": null,
            "grid_template_areas": null,
            "grid_template_columns": null,
            "grid_template_rows": null,
            "height": null,
            "justify_content": null,
            "justify_items": null,
            "left": null,
            "margin": null,
            "max_height": null,
            "max_width": null,
            "min_height": null,
            "min_width": null,
            "object_fit": null,
            "object_position": null,
            "order": null,
            "overflow": null,
            "overflow_x": null,
            "overflow_y": null,
            "padding": null,
            "right": null,
            "top": null,
            "visibility": null,
            "width": null
          }
        },
        "c69f52510c5544a899e000cc8d6ae66e": {
          "model_module": "@jupyter-widgets/controls",
          "model_module_version": "1.5.0",
          "model_name": "DescriptionStyleModel",
          "state": {
            "_model_module": "@jupyter-widgets/controls",
            "_model_module_version": "1.5.0",
            "_model_name": "DescriptionStyleModel",
            "_view_count": null,
            "_view_module": "@jupyter-widgets/base",
            "_view_module_version": "1.2.0",
            "_view_name": "StyleView",
            "description_width": ""
          }
        },
        "c82c2893371a4ecc93f2d09ee07ea5f4": {
          "model_module": "@jupyter-widgets/controls",
          "model_module_version": "1.5.0",
          "model_name": "HTMLModel",
          "state": {
            "_dom_classes": [],
            "_model_module": "@jupyter-widgets/controls",
            "_model_module_version": "1.5.0",
            "_model_name": "HTMLModel",
            "_view_count": null,
            "_view_module": "@jupyter-widgets/controls",
            "_view_module_version": "1.5.0",
            "_view_name": "HTMLView",
            "description": "",
            "description_tooltip": null,
            "layout": "IPY_MODEL_93095169becb4e5bb66745a5df378c37",
            "placeholder": "​",
            "style": "IPY_MODEL_cbe182140dd249da868dd727f4ce27dd",
            "value": " 30/30 [01:24&lt;00:00,  2.47s/it]"
          }
        },
        "cbe182140dd249da868dd727f4ce27dd": {
          "model_module": "@jupyter-widgets/controls",
          "model_module_version": "1.5.0",
          "model_name": "DescriptionStyleModel",
          "state": {
            "_model_module": "@jupyter-widgets/controls",
            "_model_module_version": "1.5.0",
            "_model_name": "DescriptionStyleModel",
            "_view_count": null,
            "_view_module": "@jupyter-widgets/base",
            "_view_module_version": "1.2.0",
            "_view_name": "StyleView",
            "description_width": ""
          }
        },
        "df779b79227641449652f93d7810b27e": {
          "model_module": "@jupyter-widgets/controls",
          "model_module_version": "1.5.0",
          "model_name": "FloatProgressModel",
          "state": {
            "_dom_classes": [],
            "_model_module": "@jupyter-widgets/controls",
            "_model_module_version": "1.5.0",
            "_model_name": "FloatProgressModel",
            "_view_count": null,
            "_view_module": "@jupyter-widgets/controls",
            "_view_module_version": "1.5.0",
            "_view_name": "ProgressView",
            "bar_style": "success",
            "description": "",
            "description_tooltip": null,
            "layout": "IPY_MODEL_b404f785181e4186b3b31ea01a6a6af0",
            "max": 30,
            "min": 0,
            "orientation": "horizontal",
            "style": "IPY_MODEL_7d1aa7cfb81f4908846f199f040cb680",
            "value": 30
          }
        },
        "e12fbc17b1a849cd8b75d4e6f6fd3911": {
          "model_module": "@jupyter-widgets/base",
          "model_module_version": "1.2.0",
          "model_name": "LayoutModel",
          "state": {
            "_model_module": "@jupyter-widgets/base",
            "_model_module_version": "1.2.0",
            "_model_name": "LayoutModel",
            "_view_count": null,
            "_view_module": "@jupyter-widgets/base",
            "_view_module_version": "1.2.0",
            "_view_name": "LayoutView",
            "align_content": null,
            "align_items": null,
            "align_self": null,
            "border": null,
            "bottom": null,
            "display": null,
            "flex": null,
            "flex_flow": null,
            "grid_area": null,
            "grid_auto_columns": null,
            "grid_auto_flow": null,
            "grid_auto_rows": null,
            "grid_column": null,
            "grid_gap": null,
            "grid_row": null,
            "grid_template_areas": null,
            "grid_template_columns": null,
            "grid_template_rows": null,
            "height": null,
            "justify_content": null,
            "justify_items": null,
            "left": null,
            "margin": null,
            "max_height": null,
            "max_width": null,
            "min_height": null,
            "min_width": null,
            "object_fit": null,
            "object_position": null,
            "order": null,
            "overflow": null,
            "overflow_x": null,
            "overflow_y": null,
            "padding": null,
            "right": null,
            "top": null,
            "visibility": null,
            "width": null
          }
        },
        "e2a13c76b21440cea079dd97f0e845ef": {
          "model_module": "@jupyter-widgets/controls",
          "model_module_version": "1.5.0",
          "model_name": "HBoxModel",
          "state": {
            "_dom_classes": [],
            "_model_module": "@jupyter-widgets/controls",
            "_model_module_version": "1.5.0",
            "_model_name": "HBoxModel",
            "_view_count": null,
            "_view_module": "@jupyter-widgets/controls",
            "_view_module_version": "1.5.0",
            "_view_name": "HBoxView",
            "box_style": "",
            "children": [
              "IPY_MODEL_11ecc9d0106d4df29a0637a18be27a21",
              "IPY_MODEL_df779b79227641449652f93d7810b27e",
              "IPY_MODEL_ebadf3f5618d440c86d2ca377b5dd7ce"
            ],
            "layout": "IPY_MODEL_256bf5707eb4431da21967fa370e6bfc"
          }
        },
        "ebadf3f5618d440c86d2ca377b5dd7ce": {
          "model_module": "@jupyter-widgets/controls",
          "model_module_version": "1.5.0",
          "model_name": "HTMLModel",
          "state": {
            "_dom_classes": [],
            "_model_module": "@jupyter-widgets/controls",
            "_model_module_version": "1.5.0",
            "_model_name": "HTMLModel",
            "_view_count": null,
            "_view_module": "@jupyter-widgets/controls",
            "_view_module_version": "1.5.0",
            "_view_name": "HTMLView",
            "description": "",
            "description_tooltip": null,
            "layout": "IPY_MODEL_189a3e904410435fa796ed1938cf3052",
            "placeholder": "​",
            "style": "IPY_MODEL_268c317043234492a4b84bc298d60663",
            "value": " 30/30 [00:12&lt;00:00,  2.56it/s]"
          }
        }
      }
    }
  },
  "nbformat": 4,
  "nbformat_minor": 0
}
